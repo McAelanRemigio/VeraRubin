{
 "cells": [
  {
   "cell_type": "code",
   "execution_count": 2,
   "id": "35774b38-c990-421e-8000-d65084c6e944",
   "metadata": {
    "execution": {
     "iopub.execute_input": "2025-06-05T17:45:42.395984Z",
     "iopub.status.busy": "2025-06-05T17:45:42.395548Z",
     "iopub.status.idle": "2025-06-05T17:45:43.029571Z",
     "shell.execute_reply": "2025-06-05T17:45:43.028815Z",
     "shell.execute_reply.started": "2025-06-05T17:45:42.395948Z"
    }
   },
   "outputs": [
    {
     "name": "stdout",
     "output_type": "stream",
     "text": [
      "/home/mcaelan/WORK\n"
     ]
    }
   ],
   "source": [
    "# HEY CHAT WE'RE IN ANCHORAGE, ALASKA ITS SO COOL WE'RE ATTENDING THE American Astronomical Society 246th Data Summit Meeting! WOOOO\n",
    "\n",
    "# Tahlia and Aadi are gonna do their thing but its McAelan again XD I'm gonna go note down everything I learn here from the workshops\n",
    "# for context we get to go to workshops in this summit concerning lots of astronomy but I'm doing my best to attend anything that's\n",
    "# coding related so that it can help aid us in our documentation\n",
    "\n",
    "!pwd"
   ]
  },
  {
   "cell_type": "code",
   "execution_count": null,
   "id": "6486a811-3e7a-45dc-abd6-9f42cf3b8957",
   "metadata": {},
   "outputs": [],
   "source": []
  }
 ],
 "metadata": {
  "kernelspec": {
   "display_name": "LSST",
   "language": "python",
   "name": "lsst"
  },
  "language_info": {
   "codemirror_mode": {
    "name": "ipython",
    "version": 3
   },
   "file_extension": ".py",
   "mimetype": "text/x-python",
   "name": "python",
   "nbconvert_exporter": "python",
   "pygments_lexer": "ipython3",
   "version": "3.12.10"
  }
 },
 "nbformat": 4,
 "nbformat_minor": 5
}
