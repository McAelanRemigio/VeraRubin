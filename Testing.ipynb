{
 "cells": [
  {
   "cell_type": "markdown",
   "id": "5c55adbb-0322-461f-ac5d-88ed67fb2981",
   "metadata": {},
   "source": [
    "Here is a random notebook for git terminal testing on our repo"
   ]
  },
  {
   "cell_type": "code",
   "execution_count": 2,
   "id": "b437b676-0f78-47c5-a8e7-02e2ef499f3e",
   "metadata": {
    "execution": {
     "iopub.execute_input": "2025-06-05T18:04:08.097106Z",
     "iopub.status.busy": "2025-06-05T18:04:08.095992Z",
     "iopub.status.idle": "2025-06-05T18:04:08.102222Z",
     "shell.execute_reply": "2025-06-05T18:04:08.101149Z",
     "shell.execute_reply.started": "2025-06-05T18:04:08.097041Z"
    }
   },
   "outputs": [
    {
     "name": "stdout",
     "output_type": "stream",
     "text": [
      "Hello World\n"
     ]
    }
   ],
   "source": [
    "print('Hello World')"
   ]
  },
  {
   "cell_type": "code",
   "execution_count": null,
   "id": "99c9e1cd-650f-47af-b98c-3b61ba949a03",
   "metadata": {},
   "outputs": [],
   "source": []
  }
 ],
 "metadata": {
  "kernelspec": {
   "display_name": "LSST",
   "language": "python",
   "name": "lsst"
  },
  "language_info": {
   "codemirror_mode": {
    "name": "ipython",
    "version": 3
   },
   "file_extension": ".py",
   "mimetype": "text/x-python",
   "name": "python",
   "nbconvert_exporter": "python",
   "pygments_lexer": "ipython3",
   "version": "3.12.10"
  }
 },
 "nbformat": 4,
 "nbformat_minor": 5
}
