{
 "cells": [
  {
   "cell_type": "markdown",
   "id": "a7c8febe-559b-4e4b-9e2d-dbfe1c4402f3",
   "metadata": {},
   "source": [
    "## Centralized Variable Star Catalog\n",
    "\n",
    "For our task to create a centralized data table for classified variable stars, we will be using astroquery, simbad/visier to retrieve data tables from different papers / sources in a pythonic format"
   ]
  },
  {
   "cell_type": "markdown",
   "id": "33632379-c4f5-40b4-aaa6-8680247127ae",
   "metadata": {},
   "source": [
    "### 1. Necessary imports\n",
    "   "
   ]
  },
  {
   "cell_type": "code",
   "execution_count": 1,
   "id": "87e489ca-f84f-4814-828d-06e3b7e30514",
   "metadata": {
    "execution": {
     "iopub.execute_input": "2025-06-26T18:02:39.894052Z",
     "iopub.status.busy": "2025-06-26T18:02:39.893852Z",
     "iopub.status.idle": "2025-06-26T18:02:40.337365Z",
     "shell.execute_reply": "2025-06-26T18:02:40.336817Z",
     "shell.execute_reply.started": "2025-06-26T18:02:39.894033Z"
    }
   },
   "outputs": [],
   "source": [
    "from astroquery.vizier import Vizier\n",
    "from astropy.coordinates import SkyCoord\n",
    "import astropy.units as units\n",
    "import csv\n",
    "import pandas as pd"
   ]
  },
  {
   "cell_type": "markdown",
   "id": "ea506384-2341-4e86-81c1-1da4a929e08d",
   "metadata": {},
   "source": [
    "### 2. Query for the catalogs of interest"
   ]
  },
  {
   "cell_type": "code",
   "execution_count": 2,
   "id": "47435b64-b3d6-49dc-b55b-e7e702b00842",
   "metadata": {
    "execution": {
     "iopub.execute_input": "2025-06-26T18:02:40.340196Z",
     "iopub.status.busy": "2025-06-26T18:02:40.340014Z",
     "iopub.status.idle": "2025-06-26T18:02:40.379316Z",
     "shell.execute_reply": "2025-06-26T18:02:40.378790Z",
     "shell.execute_reply.started": "2025-06-26T18:02:40.340178Z"
    }
   },
   "outputs": [],
   "source": [
    "# set the row limit for how many rows to retrieve (default is 50)\n",
    "Vizier.ROW_LIMIT = -1\n",
    "\n",
    "# load the catalog for our tables of interest\n",
    "\n",
    "# we will first start with the RRLyrae, Cepheids, and candidate LPVs from Bersier and Wood's paper\n",
    "catalog_list = Vizier.get_catalogs('J/AJ/123/840')"
   ]
  },
  {
   "cell_type": "code",
   "execution_count": 3,
   "id": "83eb776b-c92c-4a73-8eac-c4ae560cc2f9",
   "metadata": {
    "execution": {
     "iopub.execute_input": "2025-06-26T18:02:40.483481Z",
     "iopub.status.busy": "2025-06-26T18:02:40.483271Z",
     "iopub.status.idle": "2025-06-26T18:02:40.486381Z",
     "shell.execute_reply": "2025-06-26T18:02:40.485888Z",
     "shell.execute_reply.started": "2025-06-26T18:02:40.483464Z"
    }
   },
   "outputs": [
    {
     "name": "stdout",
     "output_type": "stream",
     "text": [
      "['J/AJ/123/840/table1', 'J/AJ/123/840/table2', 'J/AJ/123/840/table3', 'J/AJ/123/840/table4']\n"
     ]
    }
   ],
   "source": [
    "# print table names\n",
    "print(catalog_list.keys())\n",
    "\n",
    "# access a specific table\n",
    "table = catalog_list[0]"
   ]
  },
  {
   "cell_type": "code",
   "execution_count": 4,
   "id": "b1a34239-0cec-4378-9093-1d8868e0edf7",
   "metadata": {
    "execution": {
     "iopub.execute_input": "2025-06-26T18:02:43.674501Z",
     "iopub.status.busy": "2025-06-26T18:02:43.674077Z",
     "iopub.status.idle": "2025-06-26T18:02:43.680155Z",
     "shell.execute_reply": "2025-06-26T18:02:43.679615Z",
     "shell.execute_reply.started": "2025-06-26T18:02:43.674476Z"
    }
   },
   "outputs": [
    {
     "name": "stdout",
     "output_type": "stream",
     "text": [
      "Field    RJDV     RJDIc   Obs\n",
      "          d         d        \n",
      "----- --------- --------- ---\n",
      "    1 652.26667 652.26667 MSO\n",
      "    1 657.26976 657.26976 MSO\n",
      "    1 658.27549 658.27549 MSO\n",
      "    1 659.28311 659.28311 MSO\n",
      "    1 660.25075 660.25075 MSO\n",
      "    1 661.23904 661.23904 MSO\n",
      "    1 662.23573 662.23573 MSO\n",
      "    1 663.23345 663.23345 MSO\n",
      "    1 664.23512 664.23512 MSO\n",
      "  ...       ...       ... ...\n",
      "    4 747.56197 747.57163 SSO\n",
      "    4 747.68075 747.67128 SSO\n",
      "    4 749.43694 749.42517 SSO\n",
      "    4 749.54685 749.55630 SSO\n",
      "    4 785.49755 785.51659 SSO\n",
      "    4 785.59975 785.61305 SSO\n",
      "    4 786.54580 786.55536 SSO\n",
      "    4 786.62969 786.63918 SSO\n",
      "    4 787.45850 787.47754 SSO\n",
      "    4 788.63089 788.64039 SSO\n",
      "Length = 132 rows\n"
     ]
    }
   ],
   "source": [
    "print(table) # this table corresponds to the journal of observations for each field"
   ]
  },
  {
   "cell_type": "code",
   "execution_count": 5,
   "id": "dad6247e-237d-49bc-8a14-04ca2cf435ba",
   "metadata": {
    "execution": {
     "iopub.execute_input": "2025-06-26T18:02:46.087689Z",
     "iopub.status.busy": "2025-06-26T18:02:46.086936Z",
     "iopub.status.idle": "2025-06-26T18:02:46.090436Z",
     "shell.execute_reply": "2025-06-26T18:02:46.089870Z",
     "shell.execute_reply.started": "2025-06-26T18:02:46.087662Z"
    }
   },
   "outputs": [],
   "source": [
    "# we specifically want the tables for the variable stars\n",
    "RRLyrae_Bersier_Wood = catalog_list[1]\n",
    "AC_P2C_Bersier_Wood = catalog_list[2]\n",
    "LPV_Cand_Bersier_Wood = catalog_list[3]"
   ]
  },
  {
   "cell_type": "code",
   "execution_count": 55,
   "id": "7d3848c2-c6a0-4f42-88ba-e8d96b7f0a8d",
   "metadata": {
    "execution": {
     "iopub.execute_input": "2025-06-26T18:50:38.029877Z",
     "iopub.status.busy": "2025-06-26T18:50:38.029157Z",
     "iopub.status.idle": "2025-06-26T18:50:38.039480Z",
     "shell.execute_reply": "2025-06-26T18:50:38.038929Z",
     "shell.execute_reply.started": "2025-06-26T18:50:38.029850Z"
    }
   },
   "outputs": [
    {
     "name": "stdout",
     "output_type": "stream",
     "text": [
      "<Table length=515>\n",
      "  name   dtype  unit  format                        description                       \n",
      "------- ------- ---- ------- ---------------------------------------------------------\n",
      "    FBW   str16                                   RR Lyrae name (FBW JHHMMSS.s+DDMMSS)\n",
      " o_Vmag   int16                                    Number of observations used in Vmag\n",
      "   Vmag float32  mag {:6.3f}                       The phase-weighted V band magnitude\n",
      " e_Vmag float32  mag {:6.3f}                                   The uncertainty in Vmag\n",
      "o_Icmag   int16                                   Number of observations used in Icmag\n",
      "  Icmag float32  mag {:6.3f}                      The phase-weighted Ic band magnitude\n",
      "e_Icmag float32  mag {:6.3f}                                  The uncertainty in Icmag\n",
      "     WS float32      {:6.3f} The Welch-Stetson (1993AJ....105.1813W) variability index\n",
      " Period float64    d {:8.5f}                                          Pulsation period\n",
      " E(B-V) float32  mag {:6.3f}                                   The E(B-V) color excess\n",
      "    _RA float64  deg {:8.4f}   Position (derived from FBW name) (right ascension part)\n",
      "    _DE float64  deg {:8.4f}       Position (derived from FBW name) (declination part)\n",
      "<Table length=24>\n",
      " name   dtype  unit  format                       description                      \n",
      "------ ------- ---- ------- -------------------------------------------------------\n",
      "   FBW   str16                                  Cepheid name (FBW JHHMMSS.s+DDMMSS)\n",
      "  Vmag float32  mag {:6.3f}                     The phase-weighted V band magnitude\n",
      "  V-Ic float32  mag {:6.3f}                   The phase-weighted (V-Ic) color index\n",
      "e_Vmag float32  mag {:6.3f}                                 The uncertainty in Vmag\n",
      "e_V-Ic float32  mag {:6.3f}                                 The uncertainty in V-Ic\n",
      "E(B-V) float32  mag {:6.3f}                                 The E(B-V) color excess\n",
      "   Per float64    d {:8.5f}                                        Pulsation period\n",
      " Class    str4                                               Cepheid classification\n",
      "   _RA float64  deg {:8.4f} Position (derived from FBW name) (right ascension part)\n",
      "   _DE float64  deg {:8.4f}     Position (derived from FBW name) (declination part)\n",
      "<Table length=85>\n",
      " name   dtype  unit  format                       description                      \n",
      "------ ------- ---- ------- -------------------------------------------------------\n",
      "   FBW   str16                      Long Period Variable nam (FBW JHHMMSS.s+DDMMSS)\n",
      "o_Vmag   int16                                  Number of observations used in Vmag\n",
      "  Vmag float32  mag {:6.3f}                 The arithmetic average V band magnitude\n",
      "e_Vmag float32  mag {:6.3f}                   The average measurement error in Vmag\n",
      "o_V-Ic   int16                                  Number of observations used in V-Ic\n",
      "  V-Ic float32  mag {:6.3f}                The arithmetic averaged V-Ic color index\n",
      "e_V-Ic float32  mag {:6.3f}                   The average measurement error in V-Ic\n",
      "E(B-V) float32  mag {:6.3f}                                 The E(B-V) color excess\n",
      " OName   str15                                             Other identification (1)\n",
      " n_FBW   str19                                                Notes on FBW name (2)\n",
      "   _RA float64  deg {:8.4f} Position (derived from FBW name) (right ascension part)\n",
      "   _DE float64  deg {:8.4f}     Position (derived from FBW name) (declination part)\n"
     ]
    }
   ],
   "source": [
    "RRLyrae_Bersier_Wood.info()\n",
    "AC_P2C_Bersier_Wood.info()\n",
    "LPV_Cand_Bersier_Wood.info()"
   ]
  },
  {
   "cell_type": "code",
   "execution_count": 96,
   "id": "3a072c75-41fb-402b-b485-43b09515b247",
   "metadata": {
    "execution": {
     "iopub.execute_input": "2025-06-24T23:57:20.545863Z",
     "iopub.status.busy": "2025-06-24T23:57:20.545142Z",
     "iopub.status.idle": "2025-06-24T23:57:20.628839Z",
     "shell.execute_reply": "2025-06-24T23:57:20.628080Z",
     "shell.execute_reply.started": "2025-06-24T23:57:20.545833Z"
    }
   },
   "outputs": [
    {
     "name": "stdout",
     "output_type": "stream",
     "text": [
      "Catalog written to RRLyrae_Bersier_Wood.csv\n"
     ]
    }
   ],
   "source": [
    "# we can easily convert the table to csv to store on our computer using a few python lines\n",
    "csv_filename = \"RRLyrae_Bersier_Wood.csv\"\n",
    "with open(csv_filename, mode='w', newline='', encoding='utf-8') as csvfile:\n",
    "    writer = csv.writer(csvfile)\n",
    "    writer.writerow(RRLyrae_Bersier_Wood.colnames) #header\n",
    "    for row in RRLyrae_Bersier_Wood: #rows\n",
    "        writer.writerow([row[col] for col in RRLyrae_Bersier_Wood.colnames])\n",
    "\n",
    "print(f\"Catalog written to {csv_filename}\")"
   ]
  },
  {
   "cell_type": "code",
   "execution_count": 97,
   "id": "0f37794e-45d1-428a-b613-432a1ad95ae0",
   "metadata": {
    "execution": {
     "iopub.execute_input": "2025-06-25T00:18:27.284762Z",
     "iopub.status.busy": "2025-06-25T00:18:27.283991Z",
     "iopub.status.idle": "2025-06-25T00:18:27.322780Z",
     "shell.execute_reply": "2025-06-25T00:18:27.321991Z",
     "shell.execute_reply.started": "2025-06-25T00:18:27.284724Z"
    }
   },
   "outputs": [],
   "source": [
    "# there is also a astropy method to do this which is shorter\n",
    "AC_P2C_Bersier_Wood.write('Cepheid_Bersier_Wood.csv', format='csv', overwrite=True)\n",
    "LPV_Cand_Bersier_Wood.write('VStar_CatalogData/LPV_Cand_Bersier_Wood.csv', format='csv', overwrite=True)"
   ]
  },
  {
   "cell_type": "code",
   "execution_count": 7,
   "id": "050e9f1b-e74f-4654-918f-4d597893500d",
   "metadata": {
    "execution": {
     "iopub.execute_input": "2025-06-26T18:04:42.696216Z",
     "iopub.status.busy": "2025-06-26T18:04:42.695873Z",
     "iopub.status.idle": "2025-06-26T18:04:42.734460Z",
     "shell.execute_reply": "2025-06-26T18:04:42.733940Z",
     "shell.execute_reply.started": "2025-06-26T18:04:42.696193Z"
    }
   },
   "outputs": [],
   "source": [
    "# load some LPVs from the Gaia LPV catalog in a random region (just a test)\n",
    "center = SkyCoord(ra=100.4025, dec=-50.9661, unit='deg')\n",
    "fornax_center = SkyCoord(ra='39.9992', dec='34.4492', unit=(units.degree, units.degree), frame='icrs')\n",
    "radius = 1000 * units.arcmin\n",
    "fornax_radius = 1 * units.deg\n",
    "\n",
    "\n",
    "\n",
    "query = Vizier.query_region(center, radius=radius, catalog='J/ApJS/264/20')\n",
    "query_fornax = Vizier.query_region(fornax_center, radius=radius, catalog='J/ApJS/264/20')"
   ]
  },
  {
   "cell_type": "code",
   "execution_count": 9,
   "id": "4119a0bb-1b30-4446-bcd5-d2092b4bfc94",
   "metadata": {
    "execution": {
     "iopub.execute_input": "2025-06-26T18:05:02.403026Z",
     "iopub.status.busy": "2025-06-26T18:05:02.402319Z",
     "iopub.status.idle": "2025-06-26T18:05:02.406108Z",
     "shell.execute_reply": "2025-06-26T18:05:02.405392Z",
     "shell.execute_reply.started": "2025-06-26T18:05:02.403000Z"
    }
   },
   "outputs": [
    {
     "name": "stdout",
     "output_type": "stream",
     "text": [
      "['J/ApJS/264/20/table1']\n",
      "[]\n"
     ]
    }
   ],
   "source": [
    "print(query.keys())\n",
    "print(query_fornax.keys())"
   ]
  },
  {
   "cell_type": "code",
   "execution_count": 100,
   "id": "63777e7f-bcee-49e7-a6e5-b4d90d461e22",
   "metadata": {
    "execution": {
     "iopub.execute_input": "2025-06-25T19:08:45.863033Z",
     "iopub.status.busy": "2025-06-25T19:08:45.862225Z",
     "iopub.status.idle": "2025-06-25T19:08:45.866230Z",
     "shell.execute_reply": "2025-06-25T19:08:45.865732Z",
     "shell.execute_reply.started": "2025-06-25T19:08:45.863003Z"
    }
   },
   "outputs": [
    {
     "name": "stdout",
     "output_type": "stream",
     "text": [
      "TableList with 1 tables:\n",
      "\t'0:J/ApJS/264/20/table1' with 34 column(s) and 17 row(s) \n"
     ]
    }
   ],
   "source": [
    "query.pprint()"
   ]
  },
  {
   "cell_type": "code",
   "execution_count": 10,
   "id": "e9d55726-3550-4d1c-8eff-894b3306f465",
   "metadata": {
    "execution": {
     "iopub.execute_input": "2025-06-26T18:05:51.228150Z",
     "iopub.status.busy": "2025-06-26T18:05:51.227629Z",
     "iopub.status.idle": "2025-06-26T18:05:51.230860Z",
     "shell.execute_reply": "2025-06-26T18:05:51.230390Z",
     "shell.execute_reply.started": "2025-06-26T18:05:51.228125Z"
    }
   },
   "outputs": [],
   "source": [
    "result = query[0]"
   ]
  },
  {
   "cell_type": "code",
   "execution_count": 11,
   "id": "8c2260cb-a0ae-462c-9cb3-b257ef1a80d6",
   "metadata": {
    "execution": {
     "iopub.execute_input": "2025-06-26T18:05:52.599772Z",
     "iopub.status.busy": "2025-06-26T18:05:52.599061Z",
     "iopub.status.idle": "2025-06-26T18:05:52.606209Z",
     "shell.execute_reply": "2025-06-26T18:05:52.605669Z",
     "shell.execute_reply.started": "2025-06-26T18:05:52.599745Z"
    }
   },
   "outputs": [
    {
     "name": "stdout",
     "output_type": "stream",
     "text": [
      "<Table length=17>\n",
      "  name    dtype  unit  format                                 description                                 n_bad\n",
      "-------- ------- ---- -------- -------------------------------------------------------------------------- -----\n",
      "    OGLE   str14                                        Star identifier as in Iwanek+ 2022, J/ApJS/260/46     0\n",
      " RAJ2000   str11                                                   [5/19] Hour of Right ascension (J2000)     0\n",
      " DEJ2000   str11                                                            Degree of Declination (J2000)     0\n",
      "    Type    str1                                                 Surface chemistry type of Miras (O or C)     0\n",
      "    Imag float32  mag  {:6.3f}                                      [9.5/20.9] Mean OGLE I-band magnitude     0\n",
      "    Iamp float32  mag  {:6.3f}                                  [0.8/23] OGLE I-band brightness amplitude     0\n",
      "    Vmag float32  mag  {:7.3f}                                    [12.7/23.3]? Mean OGLE V-band magnitude     1\n",
      "    Vamp float32  mag  {:7.3f}                               [1.2/13.8]? OGLE V-band brightness amplitude     1\n",
      "   W1mag float32  mag  {:7.3f}                                      [4/12.4]? Mean WISE W1-band magnitude     2\n",
      " e_W1mag float32  mag  {:7.3f}                                           [0.02/1.3]? Uncertainty in W1mag     2\n",
      "   W1amp float32  mag  {:7.3f}                             [0.12/7.12]? WISE W1-band brightness amplitude     2\n",
      "   W2mag float32  mag  {:7.3f}                                      [3/11.5]? Mean WISE W2-band magnitude     1\n",
      " e_W2mag float32  mag  {:7.3f}                                          [0.014/1.8]? Uncertainty in W2mag     1\n",
      "   W2amp float32  mag  {:7.3f}                              [0.07/6.8]? WISE W2-band brightness amplitude     1\n",
      "   W3mag float32  mag  {:7.3f}                                  [0.007/10.4]? Mean WISE W3-band magnitude     2\n",
      " e_W3mag float32  mag  {:7.3f}                                          [0.024/3.8]? Uncertainty in W3mag     2\n",
      "   W3amp float32  mag  {:7.3f}                            [0.048/7.41]? WISE W3-band brightness amplitude     2\n",
      "  3.6mag float32  mag  {:7.3f}                                  [6/12]? Mean Spitzer [3.6]-band magnitude    17\n",
      "e_3.6mag float32  mag  {:7.3f}                                          [0.12/1.6]? Uncertainty in 3.6mag    17\n",
      "  3.6amp float32  mag  {:7.3f}                       [0.24/2.25]? Spitzer [3.6]-band brightness amplitude    17\n",
      "  4.5mag float32  mag  {:7.3f}                                [5.5/12]? Mean Spitzer [4.5]-band magnitude    17\n",
      "e_4.5mag float32  mag  {:7.3f}                                          [0.12/1.6]? Uncertainty in 4.5mag    17\n",
      "  4.5amp float32  mag  {:7.3f}                         [0.2/2.2]? Spitzer [4.5]-band brightness amplitude    17\n",
      "  5.8mag float32  mag  {:7.3f}                                [4/11.8]? Mean Spitzer [5.8]-band magnitude    17\n",
      "e_5.8mag float32  mag  {:7.3f}                                            [0.12/2]? Uncertainty in 5.8mag    17\n",
      "  5.8amp float32  mag  {:7.3f}                        [0.24/2.7]? Spitzer [5.8]-band brightness amplitude    17\n",
      "  8.0mag float32  mag  {:7.3f}                                [4/11.9]? Mean Spitzer [8.0]-band magnitude    17\n",
      "e_8.0mag float32  mag  {:7.3f}                                          [0.12/1.8]? Uncertainty in 8.0mag    17\n",
      "  8.0amp float32  mag  {:7.3f}                        [0.24/2.6]? Spitzer [8.0]-band brightness amplitude    17\n",
      "     AKs float32  mag  {:7.3f}                                         [0/4.9]? Extinction in the Ks band     0\n",
      "    Dist float64   pc {:10.3f}                                         [346/309770]? Distance to the star     0\n",
      "      mu float32  mag  {:7.3f}                                  [7.69/22.5]? Distance modulus of the star     0\n",
      "    Mask float32       {:7.3f} [-99.999/1] Mask flag indicating if the star is inside or outside mask (2)     0\n",
      "  Simbad    str6                                                           Simbad column added by the CDS     0\n"
     ]
    }
   ],
   "source": [
    "result.info()"
   ]
  },
  {
   "cell_type": "code",
   "execution_count": 12,
   "id": "98a57a35-5c80-4e77-afa3-188a1d4ad685",
   "metadata": {
    "execution": {
     "iopub.execute_input": "2025-06-26T18:05:59.176424Z",
     "iopub.status.busy": "2025-06-26T18:05:59.176125Z",
     "iopub.status.idle": "2025-06-26T18:05:59.189022Z",
     "shell.execute_reply": "2025-06-26T18:05:59.188504Z",
     "shell.execute_reply.started": "2025-06-26T18:05:59.176404Z"
    }
   },
   "outputs": [
    {
     "name": "stdout",
     "output_type": "stream",
     "text": [
      "     OGLE       RAJ2000     DEJ2000   Type ...    Dist       mu     Mask  Simbad\n",
      "                                           ...     pc       mag                 \n",
      "------------- ----------- ----------- ---- ... ---------- ------- ------- ------\n",
      "GD-LPV-000267 07 49 40.85 -39 33 29.1    C ...   2144.000  11.656 -99.999 Simbad\n",
      "GD-LPV-000276 07 52 48.55 -40 47 47.5    O ...   6286.000  13.992 -99.999 Simbad\n",
      "GD-LPV-000283 07 56 26.39 -41 13 58.4    O ...   6188.000  13.958 -99.999 Simbad\n",
      "GD-LPV-000287 07 57 24.69 -42 30 36.1    O ...   5000.000  13.495 -99.999 Simbad\n",
      "GD-LPV-000302 08 01 50.04 -41 49 45.1    O ...   2620.000  12.092 -99.999 Simbad\n",
      "GD-LPV-000310 08 03 10.71 -42 00 35.4    O ...   9117.000  14.799 -99.999 Simbad\n",
      "GD-LPV-000313 08 05 03.56 -44 15 58.7    O ...   6402.000  14.032 -99.999 Simbad\n",
      "GD-LPV-000322 08 07 14.38 -42 56 34.3    O ...   3646.000  12.809 -99.999 Simbad\n",
      "GD-LPV-000326 08 08 45.46 -44 33 06.4    O ...   6660.000  14.117 -99.999 Simbad\n",
      "GD-LPV-000327 08 09 05.18 -43 55 48.9    C ...  13451.000  15.644 -99.999 Simbad\n",
      "GD-LPV-000339 08 11 08.46 -45 13 12.1    O ...   5802.000  13.818 -99.999 Simbad\n",
      "GD-LPV-000349 08 13 20.36 -45 59 01.3    O ...  10464.000  15.098 -99.999 Simbad\n",
      "GD-LPV-000352 08 13 46.39 -45 29 17.5    O ...   6307.000  13.999 -99.999 Simbad\n",
      "GD-LPV-000354 08 13 54.20 -45 00 26.8    O ...  11082.000  15.223 -99.999 Simbad\n",
      "GD-LPV-000361 08 15 01.48 -47 11 52.4    O ...   6442.000  14.045 -99.999 Simbad\n",
      "GD-LPV-000378 08 18 48.92 -47 12 44.9    O ...   2125.000  11.637 -99.999 Simbad\n",
      "GD-LPV-000385 08 21 48.24 -49 12 07.1    O ...  13236.000  15.609 -99.999 Simbad\n"
     ]
    }
   ],
   "source": [
    "print(result)"
   ]
  },
  {
   "cell_type": "code",
   "execution_count": 104,
   "id": "a572855e-b4a1-4f48-a03d-f164e377b20d",
   "metadata": {
    "execution": {
     "iopub.execute_input": "2025-06-25T19:15:09.387846Z",
     "iopub.status.busy": "2025-06-25T19:15:09.386888Z",
     "iopub.status.idle": "2025-06-25T19:15:09.430445Z",
     "shell.execute_reply": "2025-06-25T19:15:09.429576Z",
     "shell.execute_reply.started": "2025-06-25T19:15:09.387801Z"
    }
   },
   "outputs": [],
   "source": [
    "result.write('MirasOGLE.csv', format='csv', overwrite=True)"
   ]
  },
  {
   "cell_type": "code",
   "execution_count": 13,
   "id": "9cc8f864-5dec-4dcf-9f7a-bc3ca74b8ea8",
   "metadata": {
    "execution": {
     "iopub.execute_input": "2025-06-26T18:06:15.584970Z",
     "iopub.status.busy": "2025-06-26T18:06:15.584234Z",
     "iopub.status.idle": "2025-06-26T18:06:16.228435Z",
     "shell.execute_reply": "2025-06-26T18:06:16.227739Z",
     "shell.execute_reply.started": "2025-06-26T18:06:15.584926Z"
    }
   },
   "outputs": [],
   "source": [
    "# query from the gaia catalog\n",
    "from astroquery.gaia import Gaia"
   ]
  },
  {
   "cell_type": "code",
   "execution_count": 14,
   "id": "005dafe2-264f-4b78-a0e0-c1851b50fc4b",
   "metadata": {
    "execution": {
     "iopub.execute_input": "2025-06-26T18:06:33.336051Z",
     "iopub.status.busy": "2025-06-26T18:06:33.335356Z",
     "iopub.status.idle": "2025-06-26T18:06:34.955173Z",
     "shell.execute_reply": "2025-06-26T18:06:34.954530Z",
     "shell.execute_reply.started": "2025-06-26T18:06:33.336020Z"
    }
   },
   "outputs": [
    {
     "name": "stdout",
     "output_type": "stream",
     "text": [
      "INFO: Query finished. [astroquery.utils.tap.core]\n"
     ]
    },
    {
     "data": {
      "text/html": [
       "<pre style=\"margin: 0.1em;\n",
       "padding-left: 0.25em;\n",
       "border-left-style: solid;\n",
       "font-family: var(--jp-code-font-family);\n",
       "font-size: var(--jp-code-font-size);\n",
       "line-height: var(--jp-code-line-height);\n",
       "\"><span style=\"color: var(--jp-warn-color2)\">astroquery</span> <span style=\"color: var(--jp-info-color0)\">INFO</span>: Query finished.</pre>"
      ],
      "text/plain": [
       "<IPython.core.display.HTML object>"
      ]
     },
     "metadata": {},
     "output_type": "display_data"
    },
    {
     "name": "stdout",
     "output_type": "stream",
     "text": [
      "         dist             solution_id             designation          ... ebpminrp_gspphot_upper libname_gspphot\n",
      "                                                                       ...          mag                          \n",
      "--------------------- ------------------- ---------------------------- ... ---------------------- ---------------\n",
      "0.0026043272506261527 1636148068921376768 Gaia DR3 6636090334814214528 ...                     --                \n",
      "0.0033616678530916998 1636148068921376768 Gaia DR3 6636090339112400000 ...                     --                \n",
      "0.0038498801828703495 1636148068921376768 Gaia DR3 6636090339113063296 ...                     --                \n",
      "                  ...                 ...                          ... ...                    ...             ...\n",
      " 0.019751317240143573 1636148068921376768 Gaia DR3 6636090407832546944 ...                 0.1176           MARCS\n",
      " 0.019916769172899054 1636148068921376768 Gaia DR3 6636066940132132352 ...                     --                \n",
      " 0.019967388048343956 1636148068921376768 Gaia DR3 6636089514478677504 ...                     --                \n",
      " 0.020149893249057697 1636148068921376768 Gaia DR3 6636066871411763968 ...                 0.0197         PHOENIX\n",
      "Length = 50 rows\n"
     ]
    }
   ],
   "source": [
    "# test, query a square region in the sky for sources\n",
    "coord = SkyCoord(ra=280, dec=-60, unit=(units.degree, units.degree), frame='icrs')\n",
    "width = units.Quantity(0.1, units.deg)\n",
    "height = units.Quantity(0.1, units.deg)\n",
    "r = Gaia.query_object_async(coordinate=coord, width=width, height=height)\n",
    "\n",
    "r.pprint(max_lines=12, max_width=130)"
   ]
  },
  {
   "cell_type": "code",
   "execution_count": 15,
   "id": "c4e43a7b-f439-4dbd-ac71-63ddb025b378",
   "metadata": {
    "execution": {
     "iopub.execute_input": "2025-06-26T18:06:49.925322Z",
     "iopub.status.busy": "2025-06-26T18:06:49.924996Z",
     "iopub.status.idle": "2025-06-26T18:06:52.463251Z",
     "shell.execute_reply": "2025-06-26T18:06:52.462682Z",
     "shell.execute_reply.started": "2025-06-26T18:06:49.925292Z"
    }
   },
   "outputs": [
    {
     "name": "stdout",
     "output_type": "stream",
     "text": [
      "INFO: Query finished. [astroquery.utils.tap.core]\n"
     ]
    },
    {
     "data": {
      "text/html": [
       "<pre style=\"margin: 0.1em;\n",
       "padding-left: 0.25em;\n",
       "border-left-style: solid;\n",
       "font-family: var(--jp-code-font-family);\n",
       "font-size: var(--jp-code-font-size);\n",
       "line-height: var(--jp-code-line-height);\n",
       "\"><span style=\"color: var(--jp-warn-color2)\">astroquery</span> <span style=\"color: var(--jp-info-color0)\">INFO</span>: Query finished.</pre>"
      ],
      "text/plain": [
       "<IPython.core.display.HTML object>"
      ]
     },
     "metadata": {},
     "output_type": "display_data"
    }
   ],
   "source": [
    "Gaia.ROW_LIMIT = 50\n",
    "j = Gaia.cone_search_async(fornax_center, radius=units.Quantity(1.0, units.deg)) # do a cone search for sources in fornax"
   ]
  },
  {
   "cell_type": "code",
   "execution_count": 16,
   "id": "db4e85a7-8e68-4803-b018-015bf51e5a79",
   "metadata": {
    "execution": {
     "iopub.execute_input": "2025-06-26T18:06:56.114099Z",
     "iopub.status.busy": "2025-06-26T18:06:56.113772Z",
     "iopub.status.idle": "2025-06-26T18:06:56.117255Z",
     "shell.execute_reply": "2025-06-26T18:06:56.116640Z",
     "shell.execute_reply.started": "2025-06-26T18:06:56.114075Z"
    }
   },
   "outputs": [],
   "source": [
    "results = j.get_results()"
   ]
  },
  {
   "cell_type": "code",
   "execution_count": 17,
   "id": "80048014-de07-4090-a56c-895e273cfacd",
   "metadata": {
    "execution": {
     "iopub.execute_input": "2025-06-26T18:07:23.756396Z",
     "iopub.status.busy": "2025-06-26T18:07:23.755611Z",
     "iopub.status.idle": "2025-06-26T18:07:23.760186Z",
     "shell.execute_reply": "2025-06-26T18:07:23.759452Z",
     "shell.execute_reply.started": "2025-06-26T18:07:23.756366Z"
    }
   },
   "outputs": [
    {
     "name": "stdout",
     "output_type": "stream",
     "text": [
      "153\n",
      "['solution_id', 'designation', 'source_id', 'random_index', 'ref_epoch', 'ra', 'ra_error', 'dec', 'dec_error', 'parallax']\n"
     ]
    }
   ],
   "source": [
    "columns = list(results.columns)\n",
    "# there is 153 columns, not going to print it out\n",
    "print(len(columns))\n",
    "print(columns[:10])"
   ]
  },
  {
   "cell_type": "code",
   "execution_count": 18,
   "id": "cbce35c2-d246-4140-ac0b-2d8f3958ef89",
   "metadata": {
    "execution": {
     "iopub.execute_input": "2025-06-26T18:07:26.266776Z",
     "iopub.status.busy": "2025-06-26T18:07:26.266118Z",
     "iopub.status.idle": "2025-06-26T18:07:26.272301Z",
     "shell.execute_reply": "2025-06-26T18:07:26.271665Z",
     "shell.execute_reply.started": "2025-06-26T18:07:26.266744Z"
    }
   },
   "outputs": [
    {
     "data": {
      "text/html": [
       "&lt;MaskedColumn name=&apos;classprob_dsc_combmod_star&apos; dtype=&apos;float32&apos; description=&apos;Probability from DSC-Combmod of being a single star (but not a white dwarf) (data used: BP/RP spectrum, photometry, astrometry)&apos; length=50&gt;\n",
       "<table>\n",
       "<tr><td>0.9999935</td></tr>\n",
       "<tr><td>0.99995106</td></tr>\n",
       "<tr><td>0.9999985</td></tr>\n",
       "<tr><td>0.99996364</td></tr>\n",
       "<tr><td>0.9999271</td></tr>\n",
       "<tr><td>0.99994254</td></tr>\n",
       "<tr><td>0.979556</td></tr>\n",
       "<tr><td>0.9999956</td></tr>\n",
       "<tr><td>0.99999636</td></tr>\n",
       "<tr><td>0.99886584</td></tr>\n",
       "<tr><td>0.9999747</td></tr>\n",
       "<tr><td>0.9999752</td></tr>\n",
       "<tr><td>...</td></tr>\n",
       "<tr><td>0.99999774</td></tr>\n",
       "<tr><td>0.9999558</td></tr>\n",
       "<tr><td>0.99999636</td></tr>\n",
       "<tr><td>0.99995446</td></tr>\n",
       "<tr><td>0.99999183</td></tr>\n",
       "<tr><td>0.9999928</td></tr>\n",
       "<tr><td>0.9999314</td></tr>\n",
       "<tr><td>0.9999283</td></tr>\n",
       "<tr><td>0.99999315</td></tr>\n",
       "<tr><td>0.9999394</td></tr>\n",
       "<tr><td>0.9998432</td></tr>\n",
       "</table>"
      ],
      "text/plain": [
       "<MaskedColumn name='classprob_dsc_combmod_star' dtype='float32' description='Probability from DSC-Combmod of being a single star (but not a white dwarf) (data used: BP/RP spectrum, photometry, astrometry)' length=50>\n",
       " 0.9999935\n",
       "0.99995106\n",
       " 0.9999985\n",
       "0.99996364\n",
       " 0.9999271\n",
       "0.99994254\n",
       "  0.979556\n",
       " 0.9999956\n",
       "0.99999636\n",
       "0.99886584\n",
       " 0.9999747\n",
       " 0.9999752\n",
       "       ...\n",
       "0.99999774\n",
       " 0.9999558\n",
       "0.99999636\n",
       "0.99995446\n",
       "0.99999183\n",
       " 0.9999928\n",
       " 0.9999314\n",
       " 0.9999283\n",
       "0.99999315\n",
       " 0.9999394\n",
       " 0.9998432"
      ]
     },
     "execution_count": 18,
     "metadata": {},
     "output_type": "execute_result"
    }
   ],
   "source": [
    "results['classprob_dsc_combmod_star']"
   ]
  },
  {
   "cell_type": "code",
   "execution_count": 19,
   "id": "fb5543fa-9194-40ee-978e-f79dc740eedd",
   "metadata": {
    "execution": {
     "iopub.execute_input": "2025-06-26T18:07:29.310008Z",
     "iopub.status.busy": "2025-06-26T18:07:29.309666Z",
     "iopub.status.idle": "2025-06-26T18:07:30.665088Z",
     "shell.execute_reply": "2025-06-26T18:07:30.664521Z",
     "shell.execute_reply.started": "2025-06-26T18:07:29.309945Z"
    }
   },
   "outputs": [],
   "source": [
    "# load gaia_source and vari_summary tables\n",
    "gaiadr3_table = Gaia.load_table('gaiadr3.gaia_source')\n",
    "gaiadr3_var = Gaia.load_table('gaiadr3.vari_summary')"
   ]
  },
  {
   "cell_type": "code",
   "execution_count": 20,
   "id": "642a44ca-4f53-4c32-972e-3ff1d2a3d6b5",
   "metadata": {
    "execution": {
     "iopub.execute_input": "2025-06-26T18:07:30.788059Z",
     "iopub.status.busy": "2025-06-26T18:07:30.787260Z",
     "iopub.status.idle": "2025-06-26T18:07:30.791333Z",
     "shell.execute_reply": "2025-06-26T18:07:30.790677Z",
     "shell.execute_reply.started": "2025-06-26T18:07:30.788021Z"
    }
   },
   "outputs": [
    {
     "name": "stdout",
     "output_type": "stream",
     "text": [
      "TAP Table name: gaiadr3.gaia_source\n",
      "Description: This table has an entry for every Gaia observed source as published with this data release. It contains the basic source parameters, in their final state as processed by the Gaia Data Processing and Analysis Consortium from the raw data coming from the spacecraft. The table is complemented with others containing information specific to certain kinds of objects (e.g.~Solar--system objects, non--single stars, variables etc.) and value--added processing (e.g.~astrophysical parameters etc.). Further array data types (spectra, epoch measurements) are presented separately via Datalink resources.\n",
      "Size (bytes): 3646930329600\n",
      "Num. columns: 152\n",
      "\n",
      "TAP Table name: gaiadr3.vari_summary\n",
      "Description: Summary table that provides the information on where a {\\tt sourceId} can be found in the different {\\tt Variability} tables and statistical parameters of time series, using only transits not rejected.\n",
      "\n",
      "Note that NULL is reported when the statistical parameter value is missing or cannot be calculated.\n",
      "Size (bytes): 3828375552\n",
      "Num. columns: 68\n"
     ]
    }
   ],
   "source": [
    "print(str(gaiadr3_table) + '\\n')\n",
    "print(gaiadr3_var)"
   ]
  },
  {
   "cell_type": "code",
   "execution_count": 21,
   "id": "a4bc3000-c4ad-4687-8028-53963c1a4e3c",
   "metadata": {
    "execution": {
     "iopub.execute_input": "2025-06-26T18:07:36.515149Z",
     "iopub.status.busy": "2025-06-26T18:07:36.514838Z",
     "iopub.status.idle": "2025-06-26T18:07:37.002468Z",
     "shell.execute_reply": "2025-06-26T18:07:37.001812Z",
     "shell.execute_reply.started": "2025-06-26T18:07:36.515126Z"
    }
   },
   "outputs": [],
   "source": [
    "# test a adql query sychronously\n",
    "query = f'''SELECT TOP 100 solution_id,ref_epoch,ra_dec_corr,astrometric_n_obs_al,\n",
    "            matched_transits,duplicated_source,phot_variable_flag\n",
    "            from gaiadr3.gaia_source order by source_id'''\n",
    "job = Gaia.launch_job(query)"
   ]
  },
  {
   "cell_type": "code",
   "execution_count": 22,
   "id": "d79f50a3-b004-46d2-b208-8ea634460122",
   "metadata": {
    "execution": {
     "iopub.execute_input": "2025-06-26T18:07:44.492811Z",
     "iopub.status.busy": "2025-06-26T18:07:44.492083Z",
     "iopub.status.idle": "2025-06-26T18:07:44.496898Z",
     "shell.execute_reply": "2025-06-26T18:07:44.496339Z",
     "shell.execute_reply.started": "2025-06-26T18:07:44.492783Z"
    }
   },
   "outputs": [
    {
     "name": "stdout",
     "output_type": "stream",
     "text": [
      "ra_dec_corr \n",
      "------------\n",
      "  0.12293493\n",
      "  0.16325329\n",
      "   0.1152631\n",
      "  0.03106277\n",
      " 0.090631574\n",
      "  0.25799984\n",
      "  0.15041357\n",
      "  0.15176746\n",
      "  0.19033876\n",
      "  0.18675442\n",
      "         ...\n",
      "-0.047490653\n",
      "  0.18519369\n",
      "  0.11701631\n",
      "  0.14461127\n",
      "  0.05615686\n",
      "  0.26646927\n",
      "-0.019807748\n",
      "  0.81679803\n",
      " -0.07291612\n",
      " -0.12864673\n",
      "Length = 100 rows\n"
     ]
    }
   ],
   "source": [
    "r = job.get_results()\n",
    "print(r['ra_dec_corr']) # works correctly"
   ]
  },
  {
   "cell_type": "code",
   "execution_count": 23,
   "id": "93bd7eed-2620-47f0-a673-19d20bc842e3",
   "metadata": {
    "execution": {
     "iopub.execute_input": "2025-06-26T18:07:48.386785Z",
     "iopub.status.busy": "2025-06-26T18:07:48.386476Z",
     "iopub.status.idle": "2025-06-26T18:07:48.392129Z",
     "shell.execute_reply": "2025-06-26T18:07:48.391654Z",
     "shell.execute_reply.started": "2025-06-26T18:07:48.386763Z"
    }
   },
   "outputs": [
    {
     "name": "stdout",
     "output_type": "stream",
     "text": [
      "<Table length=100>\n",
      "        name          dtype  unit                          description                         \n",
      "-------------------- ------- ---- -------------------------------------------------------------\n",
      "         solution_id   int64                                                Solution Identifier\n",
      "           ref_epoch float64   yr                                               Reference epoch\n",
      "         ra_dec_corr float32                Correlation between right ascension and declination\n",
      "astrometric_n_obs_al   int16      Total number of observations in the along-scan (AL) direction\n",
      "    matched_transits   int16                      The number of transits matched to this source\n",
      "   duplicated_source    bool                            Source with multiple source identifiers\n",
      "  phot_variable_flag  object                                       Photometric variability flag\n",
      "Jobid: None\n",
      "Phase: COMPLETED\n",
      "Owner: None\n",
      "Output file: 1750961256901O-result.vot.gz\n",
      "Results: None\n"
     ]
    }
   ],
   "source": [
    "print(job) # can inspect the job"
   ]
  },
  {
   "cell_type": "code",
   "execution_count": 24,
   "id": "b8dac16d-e3c9-441f-affd-6eb573e13681",
   "metadata": {
    "execution": {
     "iopub.execute_input": "2025-06-26T18:07:58.291545Z",
     "iopub.status.busy": "2025-06-26T18:07:58.290764Z",
     "iopub.status.idle": "2025-06-26T18:07:59.747641Z",
     "shell.execute_reply": "2025-06-26T18:07:59.747166Z",
     "shell.execute_reply.started": "2025-06-26T18:07:58.291511Z"
    }
   },
   "outputs": [
    {
     "name": "stdout",
     "output_type": "stream",
     "text": [
      "INFO: Query finished. [astroquery.utils.tap.core]\n"
     ]
    },
    {
     "data": {
      "text/html": [
       "<pre style=\"margin: 0.1em;\n",
       "padding-left: 0.25em;\n",
       "border-left-style: solid;\n",
       "font-family: var(--jp-code-font-family);\n",
       "font-size: var(--jp-code-font-size);\n",
       "line-height: var(--jp-code-line-height);\n",
       "\"><span style=\"color: var(--jp-warn-color2)\">astroquery</span> <span style=\"color: var(--jp-info-color0)\">INFO</span>: Query finished.</pre>"
      ],
      "text/plain": [
       "<IPython.core.display.HTML object>"
      ]
     },
     "metadata": {},
     "output_type": "display_data"
    },
    {
     "name": "stdout",
     "output_type": "stream",
     "text": [
      "COUNT_ALL\n",
      "---------\n",
      "   271779\n"
     ]
    }
   ],
   "source": [
    "# count the # of rr lyrae in the variability table\n",
    "query = \"SELECT COUNT(*) FROM gaiadr3.vari_rrlyrae\"\n",
    "job = Gaia.launch_job_async(query)\n",
    "result = job.get_results()\n",
    "print(result['COUNT_ALL'])"
   ]
  },
  {
   "cell_type": "code",
   "execution_count": 27,
   "id": "f61ba8eb-9926-4727-bea3-3cd838e1052b",
   "metadata": {
    "execution": {
     "iopub.execute_input": "2025-06-26T18:09:05.498832Z",
     "iopub.status.busy": "2025-06-26T18:09:05.498536Z",
     "iopub.status.idle": "2025-06-26T18:09:07.317696Z",
     "shell.execute_reply": "2025-06-26T18:09:07.317148Z",
     "shell.execute_reply.started": "2025-06-26T18:09:05.498811Z"
    }
   },
   "outputs": [
    {
     "name": "stdout",
     "output_type": "stream",
     "text": [
      "INFO: Query finished. [astroquery.utils.tap.core]\n"
     ]
    },
    {
     "data": {
      "text/html": [
       "<pre style=\"margin: 0.1em;\n",
       "padding-left: 0.25em;\n",
       "border-left-style: solid;\n",
       "font-family: var(--jp-code-font-family);\n",
       "font-size: var(--jp-code-font-size);\n",
       "line-height: var(--jp-code-line-height);\n",
       "\"><span style=\"color: var(--jp-warn-color2)\">astroquery</span> <span style=\"color: var(--jp-info-color0)\">INFO</span>: Query finished.</pre>"
      ],
      "text/plain": [
       "<IPython.core.display.HTML object>"
      ]
     },
     "metadata": {},
     "output_type": "display_data"
    }
   ],
   "source": [
    "# create asynchronous queries to get data from variability tables for rrl, ceph, LPV\n",
    "# query_rrl = f'''SELECT TOP 1000 r.source_id, r.pf, r.int_average_g, r.int_average_bp, r.int_average_rp,\n",
    "#             g.ra, g.dec, g.parallax, g.bp_rp\n",
    "#             FROM gaiadr3.vari_rrlyrae AS r\n",
    "#             JOIN gaiadr3.gaia_source AS g\n",
    "#             ON r.source_id = g.source_id\n",
    "#             WHERE g.ra BETWEEN 39.3 AND 40.7\n",
    "#             AND g.dec BETWEEN -34.9 AND -33.8\n",
    "#             '''\n",
    "radius = 1 * units.deg\n",
    "\n",
    "query_rrl = f'''SELECT TOP 1000 r.source_id, r.pf, r.int_average_g, r.int_average_bp, r.int_average_rp,\n",
    "            g.ra, g.dec, g.parallax, g.bp_rp\n",
    "            FROM gaiadr3.vari_rrlyrae AS r\n",
    "            JOIN gaiadr3.gaia_source AS g\n",
    "            ON r.source_id = g.source_id\n",
    "            WHERE CONTAINS(\n",
    "                POINT('ICRS', ra, dec),\n",
    "                CIRCLE('ICRS', {fornax_center.ra.deg}, {fornax_center.dec.deg}, {radius.to(units.deg).value})\n",
    "            ) = 1\n",
    "            '''\n",
    "\n",
    "job = Gaia.launch_job_async(query_rrl)\n",
    "job.get_results().write('rrl_test.csv', format='csv', overwrite=True)"
   ]
  },
  {
   "cell_type": "code",
   "execution_count": 28,
   "id": "8e267e54-02ef-4993-b95c-7173a5f6ef21",
   "metadata": {
    "execution": {
     "iopub.execute_input": "2025-06-26T18:09:29.437794Z",
     "iopub.status.busy": "2025-06-26T18:09:29.437189Z",
     "iopub.status.idle": "2025-06-26T18:09:29.443438Z",
     "shell.execute_reply": "2025-06-26T18:09:29.442922Z",
     "shell.execute_reply.started": "2025-06-26T18:09:29.437763Z"
    }
   },
   "outputs": [
    {
     "name": "stdout",
     "output_type": "stream",
     "text": [
      "<Table length=2>\n",
      "     name       dtype  unit                                   description                                    n_bad\n",
      "-------------- ------- ---- -------------------------------------------------------------------------------- -----\n",
      "     source_id   int64                                                              Unique source identifier     0\n",
      "            pf float64    d Period corresponding to the fundamental pulsation mode in the G band time series     2\n",
      " int_average_g float32  mag                                       Intensity-averaged magnitude in the G band     0\n",
      "int_average_bp float32  mag                                      Intensity-averaged magnitude in the BP band     0\n",
      "int_average_rp float32  mag                                      Intensity-averaged magnitude in the RP band     0\n",
      "            ra float64  deg                                                                  Right ascension     0\n",
      "           dec float64  deg                                                                      Declination     0\n",
      "      parallax float64  mas                                                                         Parallax     0\n",
      "         bp_rp float32  mag                                                                   BP - RP colour     0\n",
      "Jobid: 1750961345891O\n",
      "Phase: COMPLETED\n",
      "Owner: None\n",
      "Output file: async_20250626180905.vot\n",
      "Results: None\n"
     ]
    }
   ],
   "source": [
    "print(job)"
   ]
  },
  {
   "cell_type": "markdown",
   "id": "b909622b-d37b-4f09-840b-e5c5c6b4064d",
   "metadata": {},
   "source": [
    "### Retrieve sample of RR Lyrae from Gaia with known periods"
   ]
  },
  {
   "cell_type": "code",
   "execution_count": 29,
   "id": "af0e4c00-5e73-464c-8d5d-369ef2808a35",
   "metadata": {
    "execution": {
     "iopub.execute_input": "2025-06-26T18:10:18.629843Z",
     "iopub.status.busy": "2025-06-26T18:10:18.629517Z",
     "iopub.status.idle": "2025-06-26T18:10:18.633490Z",
     "shell.execute_reply": "2025-06-26T18:10:18.632730Z",
     "shell.execute_reply.started": "2025-06-26T18:10:18.629820Z"
    }
   },
   "outputs": [],
   "source": [
    "# query for a sample of rr lyrae with known periods\n",
    "query_rrl_sample = f'''SELECT TOP 100 r.source_id, r.pf, r.int_average_g, r.int_average_bp, r.int_average_rp,\n",
    "            g.ra, g.dec, g.parallax, g.bp_rp\n",
    "            FROM gaiadr3.vari_rrlyrae AS r\n",
    "            JOIN gaiadr3.gaia_source AS g\n",
    "            ON r.source_id = g.source_id\n",
    "            WHERE r.pf IS NOT NULL\n",
    "            '''"
   ]
  },
  {
   "cell_type": "code",
   "execution_count": 30,
   "id": "1c02a4d1-fc04-4b9d-aa63-fb17173c882b",
   "metadata": {
    "execution": {
     "iopub.execute_input": "2025-06-26T18:10:53.267520Z",
     "iopub.status.busy": "2025-06-26T18:10:53.266839Z",
     "iopub.status.idle": "2025-06-26T18:10:54.953898Z",
     "shell.execute_reply": "2025-06-26T18:10:54.953443Z",
     "shell.execute_reply.started": "2025-06-26T18:10:53.267488Z"
    }
   },
   "outputs": [
    {
     "name": "stdout",
     "output_type": "stream",
     "text": [
      "INFO: Query finished. [astroquery.utils.tap.core]\n"
     ]
    },
    {
     "data": {
      "text/html": [
       "<pre style=\"margin: 0.1em;\n",
       "padding-left: 0.25em;\n",
       "border-left-style: solid;\n",
       "font-family: var(--jp-code-font-family);\n",
       "font-size: var(--jp-code-font-size);\n",
       "line-height: var(--jp-code-line-height);\n",
       "\"><span style=\"color: var(--jp-warn-color2)\">astroquery</span> <span style=\"color: var(--jp-info-color0)\">INFO</span>: Query finished.</pre>"
      ],
      "text/plain": [
       "<IPython.core.display.HTML object>"
      ]
     },
     "metadata": {},
     "output_type": "display_data"
    }
   ],
   "source": [
    "job = Gaia.launch_job_async(query_rrl_sample)\n",
    "r = job.get_results()"
   ]
  },
  {
   "cell_type": "code",
   "execution_count": 32,
   "id": "eeec4344-250e-4358-affa-b0d4dcabe375",
   "metadata": {
    "execution": {
     "iopub.execute_input": "2025-06-26T18:11:53.029005Z",
     "iopub.status.busy": "2025-06-26T18:11:53.028256Z",
     "iopub.status.idle": "2025-06-26T18:11:53.043548Z",
     "shell.execute_reply": "2025-06-26T18:11:53.043060Z",
     "shell.execute_reply.started": "2025-06-26T18:11:53.028978Z"
    }
   },
   "outputs": [
    {
     "name": "stdout",
     "output_type": "stream",
     "text": [
      "<Table length=100>\n",
      "     name       dtype  unit                                   description                                    n_bad\n",
      "-------------- ------- ---- -------------------------------------------------------------------------------- -----\n",
      "     source_id   int64                                                              Unique source identifier     0\n",
      "            pf float64    d Period corresponding to the fundamental pulsation mode in the G band time series     0\n",
      " int_average_g float32  mag                                       Intensity-averaged magnitude in the G band     0\n",
      "int_average_bp float32  mag                                      Intensity-averaged magnitude in the BP band    26\n",
      "int_average_rp float32  mag                                      Intensity-averaged magnitude in the RP band    26\n",
      "            ra float64  deg                                                                  Right ascension     0\n",
      "           dec float64  deg                                                                      Declination     0\n",
      "      parallax float64  mas                                                                         Parallax     2\n",
      "         bp_rp float32  mag                                                                   BP - RP colour     3\n",
      "Jobid: 1750961453787O\n",
      "Phase: COMPLETED\n",
      "Owner: None\n",
      "Output file: async_20250626181053.vot\n",
      "Results: None\n"
     ]
    }
   ],
   "source": [
    "print(job)\n",
    "r.write('gaia_rrl_sample.csv', format='csv', overwrite=True) # write to a csv"
   ]
  },
  {
   "cell_type": "code",
   "execution_count": 33,
   "id": "ae67f9e8-44d0-4e9c-91cd-9cbc63c83234",
   "metadata": {
    "execution": {
     "iopub.execute_input": "2025-06-26T18:12:13.235231Z",
     "iopub.status.busy": "2025-06-26T18:12:13.234651Z",
     "iopub.status.idle": "2025-06-26T18:12:14.774685Z",
     "shell.execute_reply": "2025-06-26T18:12:14.774155Z",
     "shell.execute_reply.started": "2025-06-26T18:12:13.235202Z"
    }
   },
   "outputs": [
    {
     "name": "stdout",
     "output_type": "stream",
     "text": [
      "INFO: Query finished. [astroquery.utils.tap.core]\n"
     ]
    },
    {
     "data": {
      "text/html": [
       "<pre style=\"margin: 0.1em;\n",
       "padding-left: 0.25em;\n",
       "border-left-style: solid;\n",
       "font-family: var(--jp-code-font-family);\n",
       "font-size: var(--jp-code-font-size);\n",
       "line-height: var(--jp-code-line-height);\n",
       "\"><span style=\"color: var(--jp-warn-color2)\">astroquery</span> <span style=\"color: var(--jp-info-color0)\">INFO</span>: Query finished.</pre>"
      ],
      "text/plain": [
       "<IPython.core.display.HTML object>"
      ]
     },
     "metadata": {},
     "output_type": "display_data"
    },
    {
     "name": "stdout",
     "output_type": "stream",
     "text": [
      "COUNT_ALL\n",
      "---------\n",
      "    15021\n"
     ]
    }
   ],
   "source": [
    "# count the # of rr lyrae in the table\n",
    "query = \"SELECT COUNT(*) FROM gaiadr3.vari_cepheid\"\n",
    "job = Gaia.launch_job_async(query)\n",
    "result = job.get_results()\n",
    "print(result['COUNT_ALL'])"
   ]
  },
  {
   "cell_type": "code",
   "execution_count": 43,
   "id": "ffc050ea",
   "metadata": {
    "execution": {
     "iopub.execute_input": "2025-06-26T18:22:19.796765Z",
     "iopub.status.busy": "2025-06-26T18:22:19.796465Z",
     "iopub.status.idle": "2025-06-26T18:22:21.145810Z",
     "shell.execute_reply": "2025-06-26T18:22:21.145296Z",
     "shell.execute_reply.started": "2025-06-26T18:22:19.796742Z"
    }
   },
   "outputs": [
    {
     "name": "stdout",
     "output_type": "stream",
     "text": [
      "INFO: Query finished. [astroquery.utils.tap.core]\n"
     ]
    },
    {
     "data": {
      "text/html": [
       "<pre style=\"margin: 0.1em;\n",
       "padding-left: 0.25em;\n",
       "border-left-style: solid;\n",
       "font-family: var(--jp-code-font-family);\n",
       "font-size: var(--jp-code-font-size);\n",
       "line-height: var(--jp-code-line-height);\n",
       "\"><span style=\"color: var(--jp-warn-color2)\">astroquery</span> <span style=\"color: var(--jp-info-color0)\">INFO</span>: Query finished.</pre>"
      ],
      "text/plain": [
       "<IPython.core.display.HTML object>"
      ]
     },
     "metadata": {},
     "output_type": "display_data"
    }
   ],
   "source": [
    "# create asynchronous queries to get data from variability tables for rrl, ceph, LPV\n",
    "# query_rrl = f'''SELECT TOP 1000 r.source_id, r.pf, r.int_average_g, r.int_average_bp, r.int_average_rp,\n",
    "#             g.ra, g.dec, g.parallax, g.bp_rp\n",
    "#             FROM gaiadr3.vari_cepheid AS r\n",
    "#             JOIN gaiadr3.gaia_source AS g\n",
    "#             ON r.source_id = g.source_id\n",
    "#             WHERE g.ra BETWEEN 39.3 AND 40.7\n",
    "#             AND g.dec BETWEEN -34.9 AND -33.8\n",
    "#             '''\n",
    "\n",
    "radius = 1 * units.deg\n",
    "\n",
    "query_cepheid = f'''SELECT TOP 1000 c.source_id, c.pf, c.int_average_g, c.int_average_bp, c.int_average_rp,\n",
    "            g.ra, g.dec, g.parallax, g.bp_rp\n",
    "            FROM gaiadr3.vari_cepheid AS c\n",
    "            JOIN gaiadr3.gaia_source AS g\n",
    "            ON c.source_id = g.source_id\n",
    "            WHERE CONTAINS(\n",
    "                POINT('ICRS', ra, dec),\n",
    "                CIRCLE('ICRS', {fornax_center.ra.deg}, {fornax_center.dec.deg}, {radius.to(units.deg).value})\n",
    "            ) = 1\n",
    "            '''\n",
    "\n",
    "job = Gaia.launch_job_async(query_cepheid)\n",
    "job.get_results().write('cepheid_test.csv', format='csv', overwrite=True)"
   ]
  },
  {
   "cell_type": "code",
   "execution_count": 44,
   "id": "d198ffbe",
   "metadata": {
    "execution": {
     "iopub.execute_input": "2025-06-26T18:22:26.504186Z",
     "iopub.status.busy": "2025-06-26T18:22:26.503472Z",
     "iopub.status.idle": "2025-06-26T18:22:26.509466Z",
     "shell.execute_reply": "2025-06-26T18:22:26.508987Z",
     "shell.execute_reply.started": "2025-06-26T18:22:26.504158Z"
    }
   },
   "outputs": [
    {
     "name": "stdout",
     "output_type": "stream",
     "text": [
      "<Table length=0>\n",
      "     name       dtype  unit                                   description                                   \n",
      "-------------- ------- ---- --------------------------------------------------------------------------------\n",
      "     source_id   int64                                                              Unique source identifier\n",
      "            pf float64    d Period corresponding to the fundamental pulsation mode in the G band time series\n",
      " int_average_g float32  mag                                       Intensity-averaged magnitude in the G band\n",
      "int_average_bp float32  mag                                      Intensity-averaged magnitude in the BP band\n",
      "int_average_rp float32  mag                                      Intensity-averaged magnitude in the RP band\n",
      "            ra float64  deg                                                                  Right ascension\n",
      "           dec float64  deg                                                                      Declination\n",
      "      parallax float64  mas                                                                         Parallax\n",
      "         bp_rp float32  mag                                                                   BP - RP colour\n",
      "Jobid: 1750962140187O\n",
      "Phase: COMPLETED\n",
      "Owner: None\n",
      "Output file: async_20250626182220.vot\n",
      "Results: None\n"
     ]
    }
   ],
   "source": [
    "print(job)"
   ]
  },
  {
   "cell_type": "markdown",
   "id": "8e67a7f5-7793-454b-9888-026cfee36fc9",
   "metadata": {},
   "source": [
    "### Retrieve sample of Cepheids from Gaia with known periods"
   ]
  },
  {
   "cell_type": "code",
   "execution_count": 48,
   "id": "b338090d-eab0-43c7-bd61-76aabb8d1822",
   "metadata": {
    "execution": {
     "iopub.execute_input": "2025-06-26T18:24:03.904597Z",
     "iopub.status.busy": "2025-06-26T18:24:03.904260Z",
     "iopub.status.idle": "2025-06-26T18:24:03.907464Z",
     "shell.execute_reply": "2025-06-26T18:24:03.906995Z",
     "shell.execute_reply.started": "2025-06-26T18:24:03.904576Z"
    }
   },
   "outputs": [],
   "source": [
    "query_ceph_sample = f'''SELECT TOP 100 c.source_id, c.pf, c.int_average_g, c.int_average_bp, c.int_average_rp,\n",
    "            g.ra, g.dec, g.parallax, g.bp_rp\n",
    "            FROM gaiadr3.vari_cepheid AS c\n",
    "            JOIN gaiadr3.gaia_source AS g\n",
    "            ON c.source_id = g.source_id\n",
    "            WHERE c.pf IS NOT NULL\n",
    "            '''"
   ]
  },
  {
   "cell_type": "code",
   "execution_count": 49,
   "id": "b741b5c3-83b9-4285-bf94-1205e6c84010",
   "metadata": {
    "execution": {
     "iopub.execute_input": "2025-06-26T18:24:05.873992Z",
     "iopub.status.busy": "2025-06-26T18:24:05.873678Z",
     "iopub.status.idle": "2025-06-26T18:24:07.254922Z",
     "shell.execute_reply": "2025-06-26T18:24:07.254327Z",
     "shell.execute_reply.started": "2025-06-26T18:24:05.873947Z"
    }
   },
   "outputs": [
    {
     "name": "stdout",
     "output_type": "stream",
     "text": [
      "INFO: Query finished. [astroquery.utils.tap.core]\n"
     ]
    },
    {
     "data": {
      "text/html": [
       "<pre style=\"margin: 0.1em;\n",
       "padding-left: 0.25em;\n",
       "border-left-style: solid;\n",
       "font-family: var(--jp-code-font-family);\n",
       "font-size: var(--jp-code-font-size);\n",
       "line-height: var(--jp-code-line-height);\n",
       "\"><span style=\"color: var(--jp-warn-color2)\">astroquery</span> <span style=\"color: var(--jp-info-color0)\">INFO</span>: Query finished.</pre>"
      ],
      "text/plain": [
       "<IPython.core.display.HTML object>"
      ]
     },
     "metadata": {},
     "output_type": "display_data"
    }
   ],
   "source": [
    "job = Gaia.launch_job_async(query_ceph_sample)\n",
    "job.get_results().write('gaia_ceph_sample.csv', format='csv', overwrite=True)"
   ]
  },
  {
   "cell_type": "code",
   "execution_count": 46,
   "id": "a9344e5f",
   "metadata": {
    "execution": {
     "iopub.execute_input": "2025-06-26T18:23:04.035660Z",
     "iopub.status.busy": "2025-06-26T18:23:04.035081Z",
     "iopub.status.idle": "2025-06-26T18:23:05.611134Z",
     "shell.execute_reply": "2025-06-26T18:23:05.610643Z",
     "shell.execute_reply.started": "2025-06-26T18:23:04.035633Z"
    }
   },
   "outputs": [
    {
     "name": "stdout",
     "output_type": "stream",
     "text": [
      "INFO: Query finished. [astroquery.utils.tap.core]\n"
     ]
    },
    {
     "data": {
      "text/html": [
       "<pre style=\"margin: 0.1em;\n",
       "padding-left: 0.25em;\n",
       "border-left-style: solid;\n",
       "font-family: var(--jp-code-font-family);\n",
       "font-size: var(--jp-code-font-size);\n",
       "line-height: var(--jp-code-line-height);\n",
       "\"><span style=\"color: var(--jp-warn-color2)\">astroquery</span> <span style=\"color: var(--jp-info-color0)\">INFO</span>: Query finished.</pre>"
      ],
      "text/plain": [
       "<IPython.core.display.HTML object>"
      ]
     },
     "metadata": {},
     "output_type": "display_data"
    },
    {
     "name": "stdout",
     "output_type": "stream",
     "text": [
      "COUNT_ALL\n",
      "---------\n",
      "  1720588\n"
     ]
    }
   ],
   "source": [
    "query = \"SELECT COUNT(*) FROM gaiadr3.vari_long_period_variable\"\n",
    "job = Gaia.launch_job_async(query)\n",
    "result = job.get_results()\n",
    "print(result['COUNT_ALL'])"
   ]
  },
  {
   "cell_type": "code",
   "execution_count": 52,
   "id": "d6550ed6",
   "metadata": {
    "execution": {
     "iopub.execute_input": "2025-06-26T18:27:39.112536Z",
     "iopub.status.busy": "2025-06-26T18:27:39.111803Z",
     "iopub.status.idle": "2025-06-26T18:27:40.473994Z",
     "shell.execute_reply": "2025-06-26T18:27:40.473415Z",
     "shell.execute_reply.started": "2025-06-26T18:27:39.112507Z"
    }
   },
   "outputs": [
    {
     "name": "stdout",
     "output_type": "stream",
     "text": [
      "INFO: Query finished. [astroquery.utils.tap.core]\n"
     ]
    },
    {
     "data": {
      "text/html": [
       "<pre style=\"margin: 0.1em;\n",
       "padding-left: 0.25em;\n",
       "border-left-style: solid;\n",
       "font-family: var(--jp-code-font-family);\n",
       "font-size: var(--jp-code-font-size);\n",
       "line-height: var(--jp-code-line-height);\n",
       "\"><span style=\"color: var(--jp-warn-color2)\">astroquery</span> <span style=\"color: var(--jp-info-color0)\">INFO</span>: Query finished.</pre>"
      ],
      "text/plain": [
       "<IPython.core.display.HTML object>"
      ]
     },
     "metadata": {},
     "output_type": "display_data"
    }
   ],
   "source": [
    "# create asynchronous queries to get data from variability tables for rrl, ceph, LPV\n",
    "# query_rrl = f'''SELECT TOP 1000 r.source_id, r.pf, r.int_average_g, r.int_average_bp, r.int_average_rp,\n",
    "#             g.ra, g.dec, g.parallax, g.bp_rp\n",
    "#             FROM gaiadr3.vari_long_period_variable AS r\n",
    "#             JOIN gaiadr3.gaia_source AS g\n",
    "#             ON r.source_id = g.source_id\n",
    "#             WHERE g.ra BETWEEN 39.3 AND 40.7\n",
    "#             AND g.dec BETWEEN -34.9 AND -33.8\n",
    "#             '''\n",
    "\n",
    "radius = 1 * units.deg\n",
    "\n",
    "query_lpv = f'''SELECT TOP 1000 l.source_id, l.frequency, l.amplitude, \n",
    "            g.ra, g.dec, g.parallax, g.bp_rp\n",
    "            FROM gaiadr3.vari_long_period_variable AS l\n",
    "            JOIN gaiadr3.gaia_source AS g\n",
    "            ON l.source_id = g.source_id\n",
    "            WHERE CONTAINS(\n",
    "                POINT('ICRS', ra, dec),\n",
    "                CIRCLE('ICRS', {fornax_center.ra.deg}, {fornax_center.dec.deg}, {radius.to(units.deg).value})\n",
    "            ) = 1\n",
    "            '''\n",
    "\n",
    "job = Gaia.launch_job_async(query_lpv)\n",
    "job.get_results().write('lpv_test.csv', format='csv', overwrite=True)"
   ]
  },
  {
   "cell_type": "code",
   "execution_count": 53,
   "id": "55ffed9a",
   "metadata": {
    "execution": {
     "iopub.execute_input": "2025-06-26T18:27:40.475356Z",
     "iopub.status.busy": "2025-06-26T18:27:40.474919Z",
     "iopub.status.idle": "2025-06-26T18:27:40.480456Z",
     "shell.execute_reply": "2025-06-26T18:27:40.479930Z",
     "shell.execute_reply.started": "2025-06-26T18:27:40.475334Z"
    }
   },
   "outputs": [
    {
     "name": "stdout",
     "output_type": "stream",
     "text": [
      "<Table length=5>\n",
      "   name    dtype   unit           description            n_bad\n",
      "--------- ------- ----- -------------------------------- -----\n",
      "source_id   int64               Unique source identifier     0\n",
      "frequency float64 1 / d             Frequency of the LPV     3\n",
      "amplitude float32   mag Amplitude of the LPV variability     3\n",
      "       ra float64   deg                  Right ascension     0\n",
      "      dec float64   deg                      Declination     0\n",
      " parallax float64   mas                         Parallax     0\n",
      "    bp_rp float32   mag                   BP - RP colour     0\n",
      "Jobid: 1750962459506O\n",
      "Phase: COMPLETED\n",
      "Owner: None\n",
      "Output file: async_20250626182739.vot\n",
      "Results: None\n"
     ]
    }
   ],
   "source": [
    "print(job)"
   ]
  },
  {
   "cell_type": "markdown",
   "id": "9da1c41e-bc26-4175-8094-bd8b017a06f0",
   "metadata": {},
   "source": [
    "### Same for LPVs with known frequency (columns more limited here):"
   ]
  },
  {
   "cell_type": "code",
   "execution_count": 54,
   "id": "b801eb72-5645-4b38-baf5-114eb9a6756e",
   "metadata": {
    "execution": {
     "iopub.execute_input": "2025-06-26T18:29:06.904354Z",
     "iopub.status.busy": "2025-06-26T18:29:06.904028Z",
     "iopub.status.idle": "2025-06-26T18:29:08.812408Z",
     "shell.execute_reply": "2025-06-26T18:29:08.811851Z",
     "shell.execute_reply.started": "2025-06-26T18:29:06.904333Z"
    }
   },
   "outputs": [
    {
     "name": "stdout",
     "output_type": "stream",
     "text": [
      "INFO: Query finished. [astroquery.utils.tap.core]\n"
     ]
    },
    {
     "data": {
      "text/html": [
       "<pre style=\"margin: 0.1em;\n",
       "padding-left: 0.25em;\n",
       "border-left-style: solid;\n",
       "font-family: var(--jp-code-font-family);\n",
       "font-size: var(--jp-code-font-size);\n",
       "line-height: var(--jp-code-line-height);\n",
       "\"><span style=\"color: var(--jp-warn-color2)\">astroquery</span> <span style=\"color: var(--jp-info-color0)\">INFO</span>: Query finished.</pre>"
      ],
      "text/plain": [
       "<IPython.core.display.HTML object>"
      ]
     },
     "metadata": {},
     "output_type": "display_data"
    }
   ],
   "source": [
    "query_lpv_sample = f'''SELECT TOP 100 l.source_id, l.frequency, l.amplitude, \n",
    "            g.ra, g.dec, g.parallax, g.bp_rp\n",
    "            FROM gaiadr3.vari_long_period_variable AS l\n",
    "            JOIN gaiadr3.gaia_source AS g\n",
    "            ON l.source_id = g.source_id\n",
    "            WHERE l.frequency IS NOT NULL\n",
    "            '''\n",
    "\n",
    "job = Gaia.launch_job_async(query_lpv_sample)\n",
    "job.get_results().write('gaia_lpv_sample.csv', format='csv', overwrite=True)"
   ]
  },
  {
   "cell_type": "code",
   "execution_count": null,
   "id": "f4a57fc8-b534-444c-99f5-908d47eb2c20",
   "metadata": {},
   "outputs": [],
   "source": []
  }
 ],
 "metadata": {
  "kernelspec": {
   "display_name": "LSST",
   "language": "python",
   "name": "lsst"
  },
  "language_info": {
   "codemirror_mode": {
    "name": "ipython",
    "version": 3
   },
   "file_extension": ".py",
   "mimetype": "text/x-python",
   "name": "python",
   "nbconvert_exporter": "python",
   "pygments_lexer": "ipython3",
   "version": "3.12.11"
  }
 },
 "nbformat": 4,
 "nbformat_minor": 5
}
