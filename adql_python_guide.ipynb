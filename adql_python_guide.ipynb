{
 "cells": [
  {
   "cell_type": "markdown",
   "id": "5672f047-0af7-49e7-ab0d-6d23ae8e63a2",
   "metadata": {},
   "source": [
    "# Rubin TAP + Python Utilities Guide\n",
    "**Author:** McAelan Remigio\n",
    "\n",
    "**Based on original material by:** Leanne Guy, Melissa Graham\n",
    "\n",
    "**Last updated:** June 6, 2025\n",
    "\n",
    "**Credit:** This simplified guide is derived from the original Rubin Science Platform tutorial by Leanne Guy, created in the context of Rubin DP0.1. It aims to reduce complexity and improve clarity for new learners.\n",
    "\n",
    "**Disclaimer**: This guide is a simplified adaptation of the Rubin Science Platform tutorial originally developed by Leanne Guy and Melissa Graham. It preserves much of the original structure and content, with modifications for clarity and beginner accessibility.\n",
    "\n",
    "This guide dives into TAP service and basic ADQL queries through:"
   ]
  },
  {
   "cell_type": "markdown",
   "id": "dd0c31a6-f3b4-4a2b-b9fc-14e65f661c89",
   "metadata": {},
   "source": [
    "**TAP Glossary**\n",
    "\n",
    "schema - storage of data in database\n",
    "\n",
    "tap_schema - tables describing data tables + columns\n",
    "\n",
    "table - collection of related data in a table format in a database, can be found in object files \n",
    "\n",
    "query - string formatted in ADQL to select certain data from a table\n",
    "\n",
    "\n",
    "**ADQL Syntax**\n",
    "\n",
    "`<columns>` - comma-separated list of columns\n",
    "\n",
    "`<catalog>` is the name of the catalog to retreive data from\n",
    "\n",
    "`<constraints>` imposes a restriction that only rows with column values that meet the constraints are returned.\n",
    "\n",
    "SELECT - what column(s) you want to retrieve\n",
    "\n",
    "FROM - what table(s) you're querying\n",
    "\n",
    "WHERE - filter rows (example: \"WHERE mag < 15\" to find only stars with magnitude less than 15\")\n",
    "\n",
    "TOP - limit the number of results (example: \"TOP 100\" will limit your return to 100 results)\n",
    "\n",
    "AS - rename columns or tables (aliases)\n",
    "\n",
    "AND - filter out rows that meet multiple conditions at the same time, ALL conditions must be true\n",
    "\n",
    "OR - filters out rows that meet at least one of the multiple conditions to be true\n",
    "\n",
    "NOT - negates a condition, use when you want to exclude rows that meet a certain condition\n",
    "\n",
    "ORDER BY column ASC - sorts by ascending (smallest to largest), remember that smaller mags = brighter stars so asc will sort from brightest to faintest\n",
    "\n",
    "ORDER BY column DESC - sorts by descending (largest to smallest)\n",
    "\n",
    "NOTE: do NOT use SELECT * FROM mysurveydata, Rubin Science Platform catalogs are insanely large (MILLIONS OF ROWS), using this ADQL statement will attempt to run the entire table.\n",
    "\n",
    "**TAP Queries Recommendations**\n",
    "\n",
    "1) Use synchronous queries (no other cells can be run aside from this one) ( results = service.search(query) ) when dealing with schema or small amounts, but use asynchronous queries ( job = service.submit_job(query) ) when retrieving larger amounts of data (can be run in the background while you run other code cells) \n",
    "\n",
    "2) Include coordinate constraints (like a cone search) when possible since its faster than ADQL query statmements\n",
    "\n",
    "3) detect_isPrimary = True constraint, only remove this if you want duplicate results\n",
    "\n",
    "4) Use TOP to limit rows, not maxrec, and only use TOP with ORDER BY if the query's WHERE statements significantly cut down the number of objects that need to be sorted"
   ]
  },
  {
   "cell_type": "code",
   "execution_count": 16,
   "id": "217e4cd3-43bc-410b-80de-760ca27aa233",
   "metadata": {
    "execution": {
     "iopub.execute_input": "2025-06-06T19:36:17.913426Z",
     "iopub.status.busy": "2025-06-06T19:36:17.912731Z",
     "iopub.status.idle": "2025-06-06T19:36:17.950599Z",
     "shell.execute_reply": "2025-06-06T19:36:17.949608Z",
     "shell.execute_reply.started": "2025-06-06T19:36:17.913402Z"
    }
   },
   "outputs": [],
   "source": [
    "import pandas\n",
    "import numpy as np\n",
    "import matplotlib.pyplot as plt\n",
    "import astropy.units as u\n",
    "from astropy.visualization.wcsaxes import SphericalCircle\n",
    "from lsst.rsp import get_tap_service, retrieve_query\n",
    "\n",
    "service = get_tap_service(\"tap\")\n",
    "assert service is not None"
   ]
  },
  {
   "cell_type": "code",
   "execution_count": 17,
   "id": "b7d8e4a4-a37c-432d-8430-1141310dae6a",
   "metadata": {
    "execution": {
     "iopub.execute_input": "2025-06-06T19:36:19.897079Z",
     "iopub.status.busy": "2025-06-06T19:36:19.896065Z",
     "iopub.status.idle": "2025-06-06T19:36:19.900394Z",
     "shell.execute_reply": "2025-06-06T19:36:19.899759Z",
     "shell.execute_reply.started": "2025-06-06T19:36:19.897040Z"
    }
   },
   "outputs": [],
   "source": [
    "# Generally when you run pandas it'll show a certain number of rows, this sets the maximum number of rows you want to see\n",
    "pandas.set_option('display.max_rows', 10)"
   ]
  },
  {
   "cell_type": "code",
   "execution_count": 18,
   "id": "ecc5b69e-dba3-4a44-b55b-ce263b929b74",
   "metadata": {
    "execution": {
     "iopub.execute_input": "2025-06-06T19:36:21.454323Z",
     "iopub.status.busy": "2025-06-06T19:36:21.453869Z",
     "iopub.status.idle": "2025-06-06T19:36:21.622935Z",
     "shell.execute_reply": "2025-06-06T19:36:21.622369Z",
     "shell.execute_reply.started": "2025-06-06T19:36:21.454288Z"
    }
   },
   "outputs": [
    {
     "name": "stdout",
     "output_type": "stream",
     "text": [
      "<class 'pyvo.dal.tap.TAPResults'>\n",
      "<class 'astropy.table.table.Table'>\n"
     ]
    },
    {
     "data": {
      "text/html": [
       "<div><i>Table length=3</i>\n",
       "<table id=\"table138039953409136\" class=\"table-striped table-bordered table-condensed\">\n",
       "<thead><tr><th>description</th><th>schema_index</th><th>schema_name</th><th>utype</th></tr></thead>\n",
       "<thead><tr><th>object</th><th>int32</th><th>object</th><th>object</th></tr></thead>\n",
       "<tr><td>Data Preview 0.2 contains the image and catalog products of the Rubin Science Pipelines v23 processing of the DESC Data Challenge 2 simulation, which covered 300 square degrees of the wide-fast-deep LSST survey region over 5 years.</td><td>0</td><td>dp02_dc2_catalogs</td><td></td></tr>\n",
       "<tr><td>ObsCore v1.1 attributes in ObsTAP realization</td><td>1</td><td>ivoa</td><td></td></tr>\n",
       "<tr><td>A TAP-standard-mandated schema to describe tablesets in a TAP 1.1 service</td><td>100000</td><td>tap_schema</td><td></td></tr>\n",
       "</table></div>"
      ],
      "text/plain": [
       "<Table length=3>\n",
       "                                                                                                              description                                                                                                               ...\n",
       "                                                                                                                 object                                                                                                                 ...\n",
       "--------------------------------------------------------------------------------------------------------------------------------------------------------------------------------------------------------------------------------------- ...\n",
       "Data Preview 0.2 contains the image and catalog products of the Rubin Science Pipelines v23 processing of the DESC Data Challenge 2 simulation, which covered 300 square degrees of the wide-fast-deep LSST survey region over 5 years. ...\n",
       "                                                                                                                                                                                          ObsCore v1.1 attributes in ObsTAP realization ...\n",
       "                                                                                                                                                              A TAP-standard-mandated schema to describe tablesets in a TAP 1.1 service ..."
      ]
     },
     "execution_count": 18,
     "metadata": {},
     "output_type": "execute_result"
    }
   ],
   "source": [
    "# ADQL Query selecting all columns from tap_schema to revel all available catalogs\n",
    "query = 'SELECT * FROM tap_schema.schemas'\n",
    "\n",
    "# executing the query by passing it to the TAP search method and storing it in results\n",
    "results = service.search(query)\n",
    "print(type(results))\n",
    "\n",
    "# the result is TAPResults which is a python class from the PyVO Data Access package\n",
    "\n",
    "# more convnient to convert results into Astropy table \n",
    "results_table = results.to_table()\n",
    "print(type(results_table))\n",
    "results_table"
   ]
  },
  {
   "cell_type": "code",
   "execution_count": 19,
   "id": "8b373ea0-2d95-448b-be54-ea6e468d560a",
   "metadata": {
    "execution": {
     "iopub.execute_input": "2025-06-06T19:36:28.824485Z",
     "iopub.status.busy": "2025-06-06T19:36:28.823850Z",
     "iopub.status.idle": "2025-06-06T19:36:28.830256Z",
     "shell.execute_reply": "2025-06-06T19:36:28.829352Z",
     "shell.execute_reply.started": "2025-06-06T19:36:28.824445Z"
    }
   },
   "outputs": [
    {
     "name": "stdout",
     "output_type": "stream",
     "text": [
      "dp02_dc2_catalogs\n"
     ]
    }
   ],
   "source": [
    "# A for loop will start at one point and continuously iterate through the data given that it satisifies the conditions\n",
    "# and will keep on going until it is told to stop or until it reaches the end. \n",
    "\n",
    "# in this case we are looking for the presence of dp02 in the schema_name column so we can see if we have dp02 in our results table\n",
    "for name in results_table['schema_name']:\n",
    "    if name.find('dp02') > -1:\n",
    "        print(name)"
   ]
  },
  {
   "cell_type": "code",
   "execution_count": 20,
   "id": "426661eb-960f-45c7-a284-89f1ef250610",
   "metadata": {
    "execution": {
     "iopub.execute_input": "2025-06-06T19:36:31.533489Z",
     "iopub.status.busy": "2025-06-06T19:36:31.533060Z",
     "iopub.status.idle": "2025-06-06T19:36:31.537949Z",
     "shell.execute_reply": "2025-06-06T19:36:31.536967Z",
     "shell.execute_reply.started": "2025-06-06T19:36:31.533453Z"
    }
   },
   "outputs": [],
   "source": [
    "# clean up by deleting query and results\n",
    "del query, results, results_table"
   ]
  },
  {
   "cell_type": "code",
   "execution_count": 27,
   "id": "07bbc59e-c492-4dd2-9269-6ad2c8012b6b",
   "metadata": {
    "execution": {
     "iopub.execute_input": "2025-06-06T19:42:00.490729Z",
     "iopub.status.busy": "2025-06-06T19:42:00.490300Z",
     "iopub.status.idle": "2025-06-06T19:42:00.598384Z",
     "shell.execute_reply": "2025-06-06T19:42:00.597713Z",
     "shell.execute_reply.started": "2025-06-06T19:42:00.490693Z"
    }
   },
   "outputs": [
    {
     "data": {
      "text/html": [
       "<div><i>Table length=11</i>\n",
       "<table id=\"table138039953883600\" class=\"table-striped table-bordered table-condensed\">\n",
       "<thead><tr><th>description</th><th>schema_name</th><th>table_index</th><th>table_name</th><th>table_type</th><th>utype</th></tr></thead>\n",
       "<thead><tr><th>object</th><th>object</th><th>int32</th><th>object</th><th>object</th><th>object</th></tr></thead>\n",
       "<tr><td>Properties of the astronomical objects detected and measured on the deep coadded images.</td><td>dp02_dc2_catalogs</td><td>1</td><td>dp02_dc2_catalogs.Object</td><td>table</td><td></td></tr>\n",
       "<tr><td>Properties of detections on the single-epoch visit images, performed independently of the Object detections on coadded images.</td><td>dp02_dc2_catalogs</td><td>2</td><td>dp02_dc2_catalogs.Source</td><td>table</td><td></td></tr>\n",
       "<tr><td>Forced-photometry measurements on individual single-epoch visit images and difference images, based on and linked to the entries in the Object table. Point-source PSF photometry is performed, based on coordinates from a reference band chosen for each Object and reported in the Object.refBand column.</td><td>dp02_dc2_catalogs</td><td>3</td><td>dp02_dc2_catalogs.ForcedSource</td><td>table</td><td></td></tr>\n",
       "<tr><td>Properties of time-varying astronomical objects based on association of data from one or more spatially-related DiaSource detections on individual single-epoch difference images.</td><td>dp02_dc2_catalogs</td><td>4</td><td>dp02_dc2_catalogs.DiaObject</td><td>table</td><td></td></tr>\n",
       "<tr><td>Properties of transient-object detections on the single-epoch difference images.</td><td>dp02_dc2_catalogs</td><td>5</td><td>dp02_dc2_catalogs.DiaSource</td><td>table</td><td></td></tr>\n",
       "<tr><td>Point-source forced-photometry measurements on individual single-epoch visit images and difference images, based on and linked to the entries in the DiaObject table.</td><td>dp02_dc2_catalogs</td><td>6</td><td>dp02_dc2_catalogs.ForcedSourceOnDiaObject</td><td>table</td><td></td></tr>\n",
       "<tr><td>Metadata about the pointings of the DC2 simulated survey, largely associated with the boresight of the entire focal plane.</td><td>dp02_dc2_catalogs</td><td>7</td><td>dp02_dc2_catalogs.Visit</td><td>table</td><td></td></tr>\n",
       "<tr><td>Metadata about the 189 individual CCD images for each Visit in the DC2 simulated survey.</td><td>dp02_dc2_catalogs</td><td>8</td><td>dp02_dc2_catalogs.CcdVisit</td><td>table</td><td></td></tr>\n",
       "<tr><td>Static information about the subset of tracts and patches from the standard LSST skymap that apply to coadds in these catalogs</td><td>dp02_dc2_catalogs</td><td>9</td><td>dp02_dc2_catalogs.CoaddPatches</td><td>table</td><td></td></tr>\n",
       "<tr><td>Summary properties of objects from the DESC DC2 truth catalog, as described in arXiv:2101.04855. Includes the noiseless astrometric and photometric parameters.</td><td>dp02_dc2_catalogs</td><td>10</td><td>dp02_dc2_catalogs.TruthSummary</td><td>table</td><td></td></tr>\n",
       "<tr><td>Match information for TruthSummary objects.</td><td>dp02_dc2_catalogs</td><td>11</td><td>dp02_dc2_catalogs.MatchesTruth</td><td>table</td><td></td></tr>\n",
       "</table></div>"
      ],
      "text/plain": [
       "<Table length=11>\n",
       "                                                                                                                                                description                                                                                                                                                  ...\n",
       "                                                                                                                                                   object                                                                                                                                                    ...\n",
       "------------------------------------------------------------------------------------------------------------------------------------------------------------------------------------------------------------------------------------------------------------------------------------------------------------ ...\n",
       "                                                                                                                                                                                                                    Properties of the astronomical objects detected and measured on the deep coadded images. ...\n",
       "                                                                                                                                                                              Properties of detections on the single-epoch visit images, performed independently of the Object detections on coadded images. ...\n",
       "Forced-photometry measurements on individual single-epoch visit images and difference images, based on and linked to the entries in the Object table. Point-source PSF photometry is performed, based on coordinates from a reference band chosen for each Object and reported in the Object.refBand column. ...\n",
       "                                                                                                                          Properties of time-varying astronomical objects based on association of data from one or more spatially-related DiaSource detections on individual single-epoch difference images. ...\n",
       "                                                                                                                                                                                                                            Properties of transient-object detections on the single-epoch difference images. ...\n",
       "                                                                                                                                       Point-source forced-photometry measurements on individual single-epoch visit images and difference images, based on and linked to the entries in the DiaObject table. ...\n",
       "                                                                                                                                                                                  Metadata about the pointings of the DC2 simulated survey, largely associated with the boresight of the entire focal plane. ...\n",
       "                                                                                                                                                                                                                    Metadata about the 189 individual CCD images for each Visit in the DC2 simulated survey. ...\n",
       "                                                                                                                                                                              Static information about the subset of tracts and patches from the standard LSST skymap that apply to coadds in these catalogs ...\n",
       "                                                                                                                                             Summary properties of objects from the DESC DC2 truth catalog, as described in arXiv:2101.04855. Includes the noiseless astrometric and photometric parameters. ...\n",
       "                                                                                                                                                                                                                                                                 Match information for TruthSummary objects. ..."
      ]
     },
     "execution_count": 27,
     "metadata": {},
     "output_type": "execute_result"
    }
   ],
   "source": [
    "# A query that selects all columns from a certain table for a catalog schema to return the names of all tables available in said catalog\n",
    "# in this case, all tables available in dp02_dc2_catalogs\n",
    "\n",
    "query = \"SELECT * FROM tap_schema.tables \" \\\n",
    "        \"WHERE tap_schema.tables.schema_name = 'dp02_dc2_catalogs'\" \\\n",
    "        \"ORDER BY table_index ASC\"\n",
    "results = service.search(query).to_table()\n",
    "results"
   ]
  },
  {
   "cell_type": "code",
   "execution_count": 28,
   "id": "93164ff0-37f2-47e0-87c9-4163d80f27b7",
   "metadata": {
    "execution": {
     "iopub.execute_input": "2025-06-06T19:42:03.570344Z",
     "iopub.status.busy": "2025-06-06T19:42:03.569786Z",
     "iopub.status.idle": "2025-06-06T19:42:03.575097Z",
     "shell.execute_reply": "2025-06-06T19:42:03.574133Z",
     "shell.execute_reply.started": "2025-06-06T19:42:03.570306Z"
    }
   },
   "outputs": [],
   "source": [
    "del query, results # for cleanup, good practice to reset your queries"
   ]
  },
  {
   "cell_type": "code",
   "execution_count": 29,
   "id": "852c415e-2979-4dfc-8526-bff355077159",
   "metadata": {
    "execution": {
     "iopub.execute_input": "2025-06-06T19:44:51.597087Z",
     "iopub.status.busy": "2025-06-06T19:44:51.596595Z",
     "iopub.status.idle": "2025-06-06T19:44:51.802058Z",
     "shell.execute_reply": "2025-06-06T19:44:51.801397Z",
     "shell.execute_reply.started": "2025-06-06T19:44:51.597046Z"
    }
   },
   "outputs": [
    {
     "data": {
      "text/html": [
       "<div><i>Table length=991</i>\n",
       "<table id=\"table138039953894304\" class=\"table-striped table-bordered table-condensed\">\n",
       "<thead><tr><th>column_name</th><th>datatype</th><th>description</th><th>unit</th></tr></thead>\n",
       "<thead><tr><th>object</th><th>object</th><th>object</th><th>object</th></tr></thead>\n",
       "<tr><td>coord_dec</td><td>double</td><td>Fiducial ICRS Declination of centroid used for database indexing</td><td>deg</td></tr>\n",
       "<tr><td>coord_ra</td><td>double</td><td>Fiducial ICRS Right Ascension of centroid used for database indexing</td><td>deg</td></tr>\n",
       "<tr><td>deblend_nChild</td><td>int</td><td>Number of children this object has (defaults to 0)</td><td></td></tr>\n",
       "<tr><td>deblend_skipped</td><td>boolean</td><td>Deblender skipped this source</td><td></td></tr>\n",
       "<tr><td>detect_fromBlend</td><td>boolean</td><td>This source is deblended from a parent with more than one child.</td><td></td></tr>\n",
       "<tr><td>detect_isDeblendedModelSource</td><td>boolean</td><td>True if source has no children and is in the inner region of a coadd patch and is in the inner region of a coadd tract and is not a sky source and is a deblended child</td><td></td></tr>\n",
       "<tr><td>detect_isDeblendedSource</td><td>boolean</td><td>True if source has no children and is in the inner region of a coadd patch and is in the inner region of a coadd tract and is not a sky source and is either an unblended isolated source or a deblended child from a parent with</td><td></td></tr>\n",
       "<tr><td>detect_isIsolated</td><td>boolean</td><td>This source is not a part of a blend.</td><td></td></tr>\n",
       "<tr><td>detect_isPatchInner</td><td>boolean</td><td>True if source is in the inner region of a coadd patch</td><td></td></tr>\n",
       "<tr><td>...</td><td>...</td><td>...</td><td>...</td></tr>\n",
       "<tr><td>z_pixelFlags_suspect</td><td>boolean</td><td>Source&apos;s footprint includes suspect pixels. Measured on z-band.</td><td></td></tr>\n",
       "<tr><td>z_pixelFlags_suspectCenter</td><td>boolean</td><td>Source&apos;s center is close to suspect pixels. Measured on z-band.</td><td></td></tr>\n",
       "<tr><td>z_psfFlux</td><td>double</td><td>Flux derived from linear least-squares fit of PSF model. Forced on z-band.</td><td>nJy</td></tr>\n",
       "<tr><td>z_psfFlux_area</td><td>float</td><td>Effective area of PSF. Forced on z-band.</td><td>pixel</td></tr>\n",
       "<tr><td>z_psfFlux_flag</td><td>boolean</td><td>General Failure Flag. Forced on z-band.</td><td></td></tr>\n",
       "<tr><td>z_psfFlux_flag_apCorr</td><td>boolean</td><td>Set if unable to aperture correct base_PsfFlux. Forced on z-band.</td><td></td></tr>\n",
       "<tr><td>z_psfFlux_flag_edge</td><td>boolean</td><td>Object was too close to the edge of the image to use the full PSF model. Forced on z-band.</td><td></td></tr>\n",
       "<tr><td>z_psfFlux_flag_noGoodPixels</td><td>boolean</td><td>Not enough non-rejected pixels in data to attempt the fit. Forced on z-band.</td><td></td></tr>\n",
       "<tr><td>z_psfFluxErr</td><td>double</td><td>Flux uncertainty derived from linear least-squares fit of PSF model. Forced on z-band.</td><td>nJy</td></tr>\n",
       "<tr><td>z_ra</td><td>double</td><td>Position in Right Ascension. Measured on z-band.</td><td>deg</td></tr>\n",
       "</table></div>"
      ],
      "text/plain": [
       "<Table length=991>\n",
       "         column_name          datatype ...  unit \n",
       "            object             object  ... object\n",
       "----------------------------- -------- ... ------\n",
       "                    coord_dec   double ...    deg\n",
       "                     coord_ra   double ...    deg\n",
       "               deblend_nChild      int ...       \n",
       "              deblend_skipped  boolean ...       \n",
       "             detect_fromBlend  boolean ...       \n",
       "detect_isDeblendedModelSource  boolean ...       \n",
       "     detect_isDeblendedSource  boolean ...       \n",
       "            detect_isIsolated  boolean ...       \n",
       "          detect_isPatchInner  boolean ...       \n",
       "                          ...      ... ...    ...\n",
       "         z_pixelFlags_suspect  boolean ...       \n",
       "   z_pixelFlags_suspectCenter  boolean ...       \n",
       "                    z_psfFlux   double ...    nJy\n",
       "               z_psfFlux_area    float ...  pixel\n",
       "               z_psfFlux_flag  boolean ...       \n",
       "        z_psfFlux_flag_apCorr  boolean ...       \n",
       "          z_psfFlux_flag_edge  boolean ...       \n",
       "  z_psfFlux_flag_noGoodPixels  boolean ...       \n",
       "                 z_psfFluxErr   double ...    nJy\n",
       "                         z_ra   double ...    deg"
      ]
     },
     "execution_count": 29,
     "metadata": {},
     "output_type": "execute_result"
    }
   ],
   "source": [
    "# list all columns in object table, store in astropy table\n",
    "query = \"SELECT column_name, datatype, description, unit \" \\\n",
    "        \"FROM tap_schema.columns \" \\\n",
    "        \"WHERE table_name = 'dp02_dc2_catalogs.Object'\"\n",
    "results = service.search(query).to_table()\n",
    "results"
   ]
  },
  {
   "cell_type": "code",
   "execution_count": 30,
   "id": "a55b143b-12c1-4f92-9ff8-be8e48b0a317",
   "metadata": {
    "execution": {
     "iopub.execute_input": "2025-06-06T19:53:49.466972Z",
     "iopub.status.busy": "2025-06-06T19:53:49.466459Z",
     "iopub.status.idle": "2025-06-06T19:53:49.491745Z",
     "shell.execute_reply": "2025-06-06T19:53:49.490801Z",
     "shell.execute_reply.started": "2025-06-06T19:53:49.466932Z"
    }
   },
   "outputs": [
    {
     "name": "stdout",
     "output_type": "stream",
     "text": [
      "coord_dec\n",
      "coord_ra\n"
     ]
    }
   ],
   "source": [
    "# the \"...\" that appears in the middle of the table means its too long and that there are too many columns to read through\n",
    "# to fix this, you can use a for loop to only return results that have the match you're looking for \n",
    "\n",
    "# in this case, a for loop to look for \"coord\" in column_name, and writing the name down when there is a match\n",
    "search_string = 'coord'\n",
    "for cname in results['column_name']:\n",
    "    if cname.find(search_string) > -1:\n",
    "        print(cname)"
   ]
  },
  {
   "cell_type": "code",
   "execution_count": 32,
   "id": "1bd9053f-9151-492c-9ffc-971aac59332e",
   "metadata": {
    "execution": {
     "iopub.execute_input": "2025-06-06T21:09:00.951223Z",
     "iopub.status.busy": "2025-06-06T21:09:00.950572Z",
     "iopub.status.idle": "2025-06-06T21:09:00.984237Z",
     "shell.execute_reply": "2025-06-06T21:09:00.983249Z",
     "shell.execute_reply.started": "2025-06-06T21:09:00.951163Z"
    }
   },
   "outputs": [
    {
     "name": "stdout",
     "output_type": "stream",
     "text": [
      "g_psfFlux\n",
      "g_psfFlux_area\n",
      "g_psfFlux_flag\n",
      "g_psfFlux_flag_apCorr\n",
      "g_psfFlux_flag_edge\n",
      "g_psfFlux_flag_noGoodPixels\n",
      "g_psfFluxErr\n",
      "datatype\n",
      "--------\n",
      " boolean\n",
      "    char\n",
      "  double\n",
      "   float\n",
      "     int\n",
      "    long\n",
      "  unit  \n",
      "--------\n",
      "        \n",
      "     deg\n",
      "     nJy\n",
      "   pixel\n",
      "pixel**2\n"
     ]
    }
   ],
   "source": [
    "search_string = 'g_psfFlux'\n",
    "for cname in results['column_name']:\n",
    "    if cname.find(search_string) > -1:\n",
    "        print(cname)\n",
    "\n",
    "# flag values mean that there's warnings meaning that they're most likely missing some flux\n",
    "\n",
    "# datatype and units column has a limited set of values \n",
    "print(np.unique(results['datatype']))\n",
    "print(np.unique(results['unit']))"
   ]
  },
  {
   "cell_type": "code",
   "execution_count": 33,
   "id": "cba4cf7b-29de-44ec-8e76-bdf72bf5a12d",
   "metadata": {
    "execution": {
     "iopub.execute_input": "2025-06-06T21:09:57.564757Z",
     "iopub.status.busy": "2025-06-06T21:09:57.564309Z",
     "iopub.status.idle": "2025-06-06T21:09:57.569474Z",
     "shell.execute_reply": "2025-06-06T21:09:57.568481Z",
     "shell.execute_reply.started": "2025-06-06T21:09:57.564719Z"
    }
   },
   "outputs": [],
   "source": [
    "del query, results"
   ]
  },
  {
   "cell_type": "markdown",
   "id": "1d860ae3-ecaf-4f48-b7ad-fcfc1ff8cd0c",
   "metadata": {},
   "source": [
    "**Asynchronous Queries**\n",
    "\n",
    "Can run in background while running other cells until it completes and results can be rerieved right away or at a later time. Queries in our datasets are more complex so retrieving rows of data (not just schema) uses asynchronous queries more often.\n",
    "\n",
    "Cone Search\n",
    "\n",
    "A cone search means a catalog query that returns all objects within a given radius of a sky coordinate. Since a given angular diameter corresponds to a larger physical diameter at larger distances, the volume queried is a cone, not a cylinder.\n",
    "\n",
    "In ADQL, a cone search is executed with `WHERE CONTAINS(POINT(), CIRCLE()) = 1`.\n",
    " * `POINT()` passes the catalog's columns for sky coordinates.\n",
    " * `CIRCLE()` defines the center and radius of the search circle.\n",
    " * `CONTAINS() = 1` constrains the query to only return rows for which the statement \"this circle contains this point\" is \"True\" (=1)."
   ]
  },
  {
   "cell_type": "code",
   "execution_count": 38,
   "id": "1308ec49-61f8-4b0b-b5d9-736f243cf20e",
   "metadata": {
    "execution": {
     "iopub.execute_input": "2025-06-06T21:26:03.538629Z",
     "iopub.status.busy": "2025-06-06T21:26:03.538173Z",
     "iopub.status.idle": "2025-06-06T21:26:03.697223Z",
     "shell.execute_reply": "2025-06-06T21:26:03.696476Z",
     "shell.execute_reply.started": "2025-06-06T21:26:03.538590Z"
    }
   },
   "outputs": [
    {
     "name": "stdout",
     "output_type": "stream",
     "text": [
      "SELECT coord_ra, coord_dec FROM dp02_dc2_catalogs.Object WHERE CONTAINS(POINT('ICRS', coord_ra, coord_dec), CIRCLE('ICRS', 62, -37, 0.01)) = 1 AND detect_isPrimary = 1\n",
      "Job URL is https://data.lsst.cloud/api/tap/async/w8yoefvz0t8k83r7\n",
      "Job phase is PENDING\n"
     ]
    }
   ],
   "source": [
    "# define center coord and radius + TAP queries created as strings \n",
    "\n",
    "center_ra = 62\n",
    "center_dec = -37\n",
    "radius = 0.01\n",
    "\n",
    "str_center_coords = str(center_ra) + \", \" + str(center_dec)\n",
    "str_radius = str(radius)\n",
    "\n",
    "query = \"SELECT coord_ra, coord_dec \"\\\n",
    "        \"FROM dp02_dc2_catalogs.Object \"\\\n",
    "        \"WHERE CONTAINS(POINT('ICRS', coord_ra, coord_dec), \"\\\n",
    "        \"CIRCLE('ICRS', \" + str_center_coords + \", \" + str_radius + \")) = 1 \"\\\n",
    "        \"AND detect_isPrimary = 1\"\n",
    "print(query)\n",
    "\n",
    "# Submitting query \n",
    "job = service.submit_job(query)\n",
    "print('Job URL is', job.url)\n",
    "print('Job phase is', job.phase)"
   ]
  },
  {
   "cell_type": "code",
   "execution_count": 39,
   "id": "8ad4ad4a-db03-4bf8-9091-cbb73a083940",
   "metadata": {
    "execution": {
     "iopub.execute_input": "2025-06-06T21:26:06.394574Z",
     "iopub.status.busy": "2025-06-06T21:26:06.394128Z",
     "iopub.status.idle": "2025-06-06T21:26:06.439256Z",
     "shell.execute_reply": "2025-06-06T21:26:06.438379Z",
     "shell.execute_reply.started": "2025-06-06T21:26:06.394538Z"
    }
   },
   "outputs": [
    {
     "data": {
      "text/plain": [
       "<pyvo.dal.tap.AsyncTAPJob at 0x7d8bee616180>"
      ]
     },
     "execution_count": 39,
     "metadata": {},
     "output_type": "execute_result"
    }
   ],
   "source": [
    "job.run()\n",
    "# wait for job status will either say \"COMPLETED\" or \"ERROR\", not mandatory but helpful in letting you know when the job is no longer\n",
    "# running, but note that THIS next cell is synchronous, not asynchronous."
   ]
  },
  {
   "cell_type": "code",
   "execution_count": 40,
   "id": "d3eb5a93-8e11-4c90-9945-150255a1ac43",
   "metadata": {
    "execution": {
     "iopub.execute_input": "2025-06-06T21:27:23.755064Z",
     "iopub.status.busy": "2025-06-06T21:27:23.754586Z",
     "iopub.status.idle": "2025-06-06T21:27:23.903953Z",
     "shell.execute_reply": "2025-06-06T21:27:23.903428Z",
     "shell.execute_reply.started": "2025-06-06T21:27:23.755022Z"
    }
   },
   "outputs": [
    {
     "name": "stdout",
     "output_type": "stream",
     "text": [
      "Job phase is COMPLETED\n"
     ]
    }
   ],
   "source": [
    "job.wait(phases=['COMPLETED', 'ERROR'])\n",
    "print('Job phase is', job.phase)"
   ]
  },
  {
   "cell_type": "code",
   "execution_count": 41,
   "id": "69488b97-51bc-4182-ae8f-af107b619e42",
   "metadata": {
    "execution": {
     "iopub.execute_input": "2025-06-06T21:29:35.253780Z",
     "iopub.status.busy": "2025-06-06T21:29:35.253183Z",
     "iopub.status.idle": "2025-06-06T21:29:35.484571Z",
     "shell.execute_reply": "2025-06-06T21:29:35.483659Z",
     "shell.execute_reply.started": "2025-06-06T21:29:35.253738Z"
    }
   },
   "outputs": [
    {
     "name": "stdout",
     "output_type": "stream",
     "text": [
      "173\n"
     ]
    },
    {
     "data": {
      "text/html": [
       "<div><i>Table length=173</i>\n",
       "<table id=\"table138039953895456\" class=\"table-striped table-bordered table-condensed\">\n",
       "<thead><tr><th>coord_ra</th><th>coord_dec</th></tr></thead>\n",
       "<thead><tr><th>deg</th><th>deg</th></tr></thead>\n",
       "<thead><tr><th>float64</th><th>float64</th></tr></thead>\n",
       "<tr><td>61.9892581</td><td>-37.0051185</td></tr>\n",
       "<tr><td>61.9974384</td><td>-37.0057962</td></tr>\n",
       "<tr><td>62.0032855</td><td>-37.0062479</td></tr>\n",
       "<tr><td>61.9982376</td><td>-37.0071231</td></tr>\n",
       "<tr><td>62.0033408</td><td>-37.0025362</td></tr>\n",
       "<tr><td>62.0087858</td><td>-37.0048004</td></tr>\n",
       "<tr><td>62.0067606</td><td>-37.008115</td></tr>\n",
       "<tr><td>61.9996415</td><td>-37.0073422</td></tr>\n",
       "<tr><td>62.0054597</td><td>-37.0085692</td></tr>\n",
       "<tr><td>...</td><td>...</td></tr>\n",
       "<tr><td>61.9884085</td><td>-36.9989681</td></tr>\n",
       "<tr><td>61.988612</td><td>-37.0015165</td></tr>\n",
       "<tr><td>61.9919469</td><td>-36.992835</td></tr>\n",
       "<tr><td>61.9913403</td><td>-36.9929115</td></tr>\n",
       "<tr><td>61.990251</td><td>-36.9963471</td></tr>\n",
       "<tr><td>61.9892604</td><td>-36.995563</td></tr>\n",
       "<tr><td>61.9901842</td><td>-36.9955663</td></tr>\n",
       "<tr><td>61.9926851</td><td>-36.9984261</td></tr>\n",
       "<tr><td>61.9922095</td><td>-36.9984562</td></tr>\n",
       "</table></div>"
      ],
      "text/plain": [
       "<Table length=173>\n",
       " coord_ra   coord_dec \n",
       "   deg         deg    \n",
       " float64     float64  \n",
       "---------- -----------\n",
       "61.9892581 -37.0051185\n",
       "61.9974384 -37.0057962\n",
       "62.0032855 -37.0062479\n",
       "61.9982376 -37.0071231\n",
       "62.0033408 -37.0025362\n",
       "62.0087858 -37.0048004\n",
       "62.0067606  -37.008115\n",
       "61.9996415 -37.0073422\n",
       "62.0054597 -37.0085692\n",
       "       ...         ...\n",
       "61.9884085 -36.9989681\n",
       " 61.988612 -37.0015165\n",
       "61.9919469  -36.992835\n",
       "61.9913403 -36.9929115\n",
       " 61.990251 -36.9963471\n",
       "61.9892604  -36.995563\n",
       "61.9901842 -36.9955663\n",
       "61.9926851 -36.9984261\n",
       "61.9922095 -36.9984562"
      ]
     },
     "execution_count": 41,
     "metadata": {},
     "output_type": "execute_result"
    }
   ],
   "source": [
    "# If the status was returned was COMPLETED, execute these lines to retrieve the query results as an astropy table and print the\n",
    "# length of the table\n",
    "results = job.fetch_result().to_table()\n",
    "print(len(results))\n",
    "results\n",
    "\n",
    "# If the status was returned was ERROR, uncomment this and execute this cell top print the error messages \n",
    "# job.raise_if_error()\n"
   ]
  },
  {
   "cell_type": "markdown",
   "id": "4cedaea0-c4e9-4bc7-8c54-89e33505c10f",
   "metadata": {},
   "source": [
    "Plotting Coordinates Right Ascension (RA) vs Declination (Dec)\n",
    "\n",
    "In this example we will shade the query region using the astropy clsas SphericalCircle"
   ]
  },
  {
   "cell_type": "code",
   "execution_count": 42,
   "id": "0e57ed44-9615-460d-b2e5-75e8e46784a9",
   "metadata": {
    "execution": {
     "iopub.execute_input": "2025-06-06T21:30:37.429911Z",
     "iopub.status.busy": "2025-06-06T21:30:37.429470Z",
     "iopub.status.idle": "2025-06-06T21:30:37.614706Z",
     "shell.execute_reply": "2025-06-06T21:30:37.614227Z",
     "shell.execute_reply.started": "2025-06-06T21:30:37.429874Z"
    }
   },
   "outputs": [
    {
     "data": {
      "image/png": "[encoded data removed]",
      "text/plain": [
       "<Figure size 400x400 with 1 Axes>"
      ]
     },
     "metadata": {},
     "output_type": "display_data"
    }
   ],
   "source": [
    "fig = plt.figure(figsize=(4, 4))\n",
    "\n",
    "region = SphericalCircle((center_ra * u.deg, center_dec * u.deg),\n",
    "                         radius * u.deg, alpha=0.2, color='blue')\n",
    "plt.gca().add_patch(region)\n",
    "\n",
    "plt.plot(results['coord_ra'], results['coord_dec'],\n",
    "         'o', alpha=0.5, color='black', mew=0)\n",
    "\n",
    "plt.xlabel('RA')\n",
    "plt.ylabel('Dec')\n",
    "plt.show()"
   ]
  },
  {
   "cell_type": "markdown",
   "id": "615571f0-8145-4635-8714-79bde574170d",
   "metadata": {},
   "source": [
    "RA vs Dec coordinates for Objects are retrieved by the query (black dots) within the query region (purple circle)"
   ]
  },
  {
   "cell_type": "code",
   "execution_count": 43,
   "id": "f61e5e36-5258-4195-b6cb-4fabaa845b99",
   "metadata": {
    "execution": {
     "iopub.execute_input": "2025-06-06T21:31:35.916596Z",
     "iopub.status.busy": "2025-06-06T21:31:35.916054Z",
     "iopub.status.idle": "2025-06-06T21:31:36.065018Z",
     "shell.execute_reply": "2025-06-06T21:31:36.064012Z",
     "shell.execute_reply.started": "2025-06-06T21:31:35.916570Z"
    }
   },
   "outputs": [],
   "source": [
    "# clean up and save memory\n",
    "job.delete()\n",
    "del query, results"
   ]
  },
  {
   "cell_type": "markdown",
   "id": "295fdc5a-e082-43d5-8be9-2047d1f03343",
   "metadata": {},
   "source": [
    "Limiting Rows Returned w/ TOP\n",
    "\n",
    "For debugging and testing queries, can be faster if only retrieving a subset of rows meeting query constraints"
   ]
  },
  {
   "cell_type": "code",
   "execution_count": 51,
   "id": "a2b93bec-3fbe-4397-849e-73473d9b2acb",
   "metadata": {
    "execution": {
     "iopub.execute_input": "2025-06-06T21:35:25.807775Z",
     "iopub.status.busy": "2025-06-06T21:35:25.807092Z",
     "iopub.status.idle": "2025-06-06T21:35:25.810827Z",
     "shell.execute_reply": "2025-06-06T21:35:25.810385Z",
     "shell.execute_reply.started": "2025-06-06T21:35:25.807751Z"
    }
   },
   "outputs": [
    {
     "name": "stdout",
     "output_type": "stream",
     "text": [
      "SELECT TOP 20 coord_ra, coord_dec FROM dp02_dc2_catalogs.Object WHERE CONTAINS(POINT('ICRS', coord_ra, coord_dec), CIRCLE('ICRS', 62, -37, 0.01)) = 1 AND detect_isPrimary = 1\n"
     ]
    }
   ],
   "source": [
    "N = 20\n",
    "query = \"SELECT TOP \" + str(N) + \" coord_ra, coord_dec \"\\\n",
    "        \"FROM dp02_dc2_catalogs.Object \"\\\n",
    "        \"WHERE CONTAINS(POINT('ICRS', coord_ra, coord_dec), \"\\\n",
    "        \"CIRCLE('ICRS', \" + str_center_coords + \", \" + str_radius + \")) = 1 \"\\\n",
    "        \"AND detect_isPrimary = 1\"\n",
    "print(query)"
   ]
  },
  {
   "cell_type": "code",
   "execution_count": 52,
   "id": "fea07778-cbb2-43cd-ae6f-e9a6387c895a",
   "metadata": {
    "execution": {
     "iopub.execute_input": "2025-06-06T21:35:27.410409Z",
     "iopub.status.busy": "2025-06-06T21:35:27.409736Z",
     "iopub.status.idle": "2025-06-06T21:35:28.689384Z",
     "shell.execute_reply": "2025-06-06T21:35:28.688426Z",
     "shell.execute_reply.started": "2025-06-06T21:35:27.410386Z"
    }
   },
   "outputs": [
    {
     "name": "stdout",
     "output_type": "stream",
     "text": [
      "Job phase is COMPLETED\n",
      "20\n"
     ]
    }
   ],
   "source": [
    "# Asynchronous job \n",
    "job = service.submit_job(query)\n",
    "job.run()\n",
    "job.wait(phases=['COMPLETED', 'ERROR'])\n",
    "print('Job phase is', job.phase)\n",
    "\n",
    "results = job.fetch_result().to_table()\n",
    "print(len(results))"
   ]
  },
  {
   "cell_type": "code",
   "execution_count": 53,
   "id": "9996dfc9-be09-4d9c-8222-c39a44ab6bd0",
   "metadata": {
    "execution": {
     "iopub.execute_input": "2025-06-06T21:35:29.156261Z",
     "iopub.status.busy": "2025-06-06T21:35:29.155821Z",
     "iopub.status.idle": "2025-06-06T21:35:29.315061Z",
     "shell.execute_reply": "2025-06-06T21:35:29.314578Z",
     "shell.execute_reply.started": "2025-06-06T21:35:29.156224Z"
    }
   },
   "outputs": [
    {
     "data": {
      "image/png": "[encoded data removed]",
      "text/plain": [
       "<Figure size 400x400 with 1 Axes>"
      ]
     },
     "metadata": {},
     "output_type": "display_data"
    }
   ],
   "source": [
    "fig = plt.figure(figsize=(4, 4))\n",
    "region = SphericalCircle((center_ra * u.deg, center_dec * u.deg),\n",
    "                         radius * u.deg, alpha=0.2, color='blue')\n",
    "plt.gca().add_patch(region)\n",
    "plt.plot(results['coord_ra'], results['coord_dec'],\n",
    "         'o', alpha=0.5, color='black', mew=0)\n",
    "plt.xlabel('RA')\n",
    "plt.ylabel('Dec')\n",
    "plt.show()"
   ]
  },
  {
   "cell_type": "markdown",
   "id": "281ef1d2-137c-4458-8e89-941acad0ab50",
   "metadata": {},
   "source": [
    "Only the top 20 objects of RA vs Dec coordinates for Objects are retrieved by the query (black dots) within the query region (purple circle), all black dorts are located in the lower half of the blue circle "
   ]
  },
  {
   "cell_type": "code",
   "execution_count": 54,
   "id": "9534224c-0a8b-453f-94af-89495cda5d47",
   "metadata": {
    "execution": {
     "iopub.execute_input": "2025-06-06T21:35:31.726133Z",
     "iopub.status.busy": "2025-06-06T21:35:31.725709Z",
     "iopub.status.idle": "2025-06-06T21:35:31.753260Z",
     "shell.execute_reply": "2025-06-06T21:35:31.752282Z",
     "shell.execute_reply.started": "2025-06-06T21:35:31.726098Z"
    }
   },
   "outputs": [],
   "source": [
    "# Clean up\n",
    "job.delete()\n",
    "del query, results"
   ]
  },
  {
   "cell_type": "markdown",
   "id": "6e0fbde0-e8e6-42be-b83a-0a4df02dab37",
   "metadata": {},
   "source": [
    "Use of maxrec instead of TOP if you want to test a large query without pulling full results and don't want to modify the original query, or if in this case, the Rubin Science Platform, lets you limit result size externally. "
   ]
  },
  {
   "cell_type": "code",
   "execution_count": 55,
   "id": "1bd30df1-582d-4345-b9b2-45df9f808b5c",
   "metadata": {
    "execution": {
     "iopub.execute_input": "2025-06-06T21:37:38.776184Z",
     "iopub.status.busy": "2025-06-06T21:37:38.775675Z",
     "iopub.status.idle": "2025-06-06T21:37:38.781787Z",
     "shell.execute_reply": "2025-06-06T21:37:38.780796Z",
     "shell.execute_reply.started": "2025-06-06T21:37:38.776142Z"
    }
   },
   "outputs": [
    {
     "name": "stdout",
     "output_type": "stream",
     "text": [
      "SELECT coord_ra, coord_dec FROM dp02_dc2_catalogs.Object WHERE CONTAINS(POINT('ICRS', coord_ra, coord_dec), CIRCLE('ICRS', 62, -37, 0.01)) = 1 AND detect_isPrimary = 1\n"
     ]
    }
   ],
   "source": [
    "query = \"SELECT coord_ra, coord_dec \"\\\n",
    "        \"FROM dp02_dc2_catalogs.Object \"\\\n",
    "        \"WHERE CONTAINS(POINT('ICRS', coord_ra, coord_dec), \"\\\n",
    "        \"CIRCLE('ICRS', \" + str_center_coords + \", \" + str_radius + \")) = 1 \"\\\n",
    "        \"AND detect_isPrimary = 1\"\n",
    "print(query)"
   ]
  },
  {
   "cell_type": "code",
   "execution_count": 57,
   "id": "5509460f-5e75-4c61-bd17-d59a6d143c15",
   "metadata": {
    "execution": {
     "iopub.execute_input": "2025-06-06T21:37:49.726459Z",
     "iopub.status.busy": "2025-06-06T21:37:49.726017Z",
     "iopub.status.idle": "2025-06-06T21:37:50.907999Z",
     "shell.execute_reply": "2025-06-06T21:37:50.907442Z",
     "shell.execute_reply.started": "2025-06-06T21:37:49.726420Z"
    }
   },
   "outputs": [
    {
     "name": "stdout",
     "output_type": "stream",
     "text": [
      "Job phase is COMPLETED\n"
     ]
    }
   ],
   "source": [
    "job = service.submit_job(query, maxrec=N)\n",
    "job.run()\n",
    "job.wait(phases=['COMPLETED', 'ERROR'])\n",
    "print('Job phase is', job.phase)"
   ]
  },
  {
   "cell_type": "code",
   "execution_count": 58,
   "id": "980fec80-e22d-4ee2-86bb-c271d3c4ae6d",
   "metadata": {
    "execution": {
     "iopub.execute_input": "2025-06-06T21:37:56.043687Z",
     "iopub.status.busy": "2025-06-06T21:37:56.043275Z",
     "iopub.status.idle": "2025-06-06T21:37:56.120661Z",
     "shell.execute_reply": "2025-06-06T21:37:56.120140Z",
     "shell.execute_reply.started": "2025-06-06T21:37:56.043653Z"
    }
   },
   "outputs": [
    {
     "name": "stdout",
     "output_type": "stream",
     "text": [
      "20\n"
     ]
    },
    {
     "name": "stderr",
     "output_type": "stream",
     "text": [
      "/opt/lsst/software/stack/conda/envs/lsst-scipipe-10.0.0/lib/python3.12/site-packages/pyvo/dal/query.py:341: DALOverflowWarning: Partial result set. Potential causes MAXREC, async storage space, etc.\n",
      "  warn(\"Partial result set. Potential causes MAXREC, async storage space, etc.\",\n"
     ]
    }
   ],
   "source": [
    "results = job.fetch_result().to_table()\n",
    "print(len(results))\n",
    "\n",
    "# in this case, you can get a DALOverflowingWarning qhen results are retrieved, meaning that partial results were returned.\n",
    "# it is okay here though because our intent was to return partial results by using maxrec instead of TOP "
   ]
  },
  {
   "cell_type": "code",
   "execution_count": 59,
   "id": "076e060c-9ef4-487a-87d5-7b7d780abbf3",
   "metadata": {
    "execution": {
     "iopub.execute_input": "2025-06-06T21:38:52.996903Z",
     "iopub.status.busy": "2025-06-06T21:38:52.996143Z",
     "iopub.status.idle": "2025-06-06T21:38:53.152490Z",
     "shell.execute_reply": "2025-06-06T21:38:53.151575Z",
     "shell.execute_reply.started": "2025-06-06T21:38:52.996863Z"
    }
   },
   "outputs": [
    {
     "data": {
      "image/png": "[encoded data removed]",
      "text/plain": [
       "<Figure size 400x400 with 1 Axes>"
      ]
     },
     "metadata": {},
     "output_type": "display_data"
    }
   ],
   "source": [
    "fig = plt.figure(figsize=(4, 4))\n",
    "region = SphericalCircle((center_ra * u.deg, center_dec * u.deg),\n",
    "                         radius * u.deg, alpha=0.2, color='blue')\n",
    "plt.gca().add_patch(region)\n",
    "plt.plot(results['coord_ra'], results['coord_dec'],\n",
    "         'o', alpha=0.5, color='black', mew=0)\n",
    "plt.xlabel('RA')\n",
    "plt.ylabel('Dec')\n",
    "plt.show()\n",
    "\n",
    "# same as the figure from above "
   ]
  },
  {
   "cell_type": "code",
   "execution_count": 60,
   "id": "e9e780d2-3e49-4d93-8c4b-c92709302df1",
   "metadata": {
    "execution": {
     "iopub.execute_input": "2025-06-06T21:39:14.389357Z",
     "iopub.status.busy": "2025-06-06T21:39:14.388830Z",
     "iopub.status.idle": "2025-06-06T21:39:14.444164Z",
     "shell.execute_reply": "2025-06-06T21:39:14.443209Z",
     "shell.execute_reply.started": "2025-06-06T21:39:14.389317Z"
    }
   },
   "outputs": [],
   "source": [
    "job.delete()\n",
    "del query, results"
   ]
  },
  {
   "cell_type": "markdown",
   "id": "38d9ad2b-44e6-4ef8-a456-64a85cb935f0",
   "metadata": {},
   "source": [
    "Sorting results by ORDER BY \n",
    "\n",
    "Note: Use ORDER BY and TOP together with caution, since if the query is not well constrained, you may end up sorting before returning the TOP numbers which is inefficient with time and resources \n",
    "\n",
    "Query that returns the TOP N objects sorted by coord_ra in ascending (ASC) order"
   ]
  },
  {
   "cell_type": "code",
   "execution_count": 61,
   "id": "0170d550-8461-4fca-821d-c3da66620866",
   "metadata": {
    "execution": {
     "iopub.execute_input": "2025-06-06T21:42:32.980161Z",
     "iopub.status.busy": "2025-06-06T21:42:32.979633Z",
     "iopub.status.idle": "2025-06-06T21:42:32.986052Z",
     "shell.execute_reply": "2025-06-06T21:42:32.985041Z",
     "shell.execute_reply.started": "2025-06-06T21:42:32.980113Z"
    }
   },
   "outputs": [
    {
     "name": "stdout",
     "output_type": "stream",
     "text": [
      "SELECT TOP 20 coord_ra, coord_dec FROM dp02_dc2_catalogs.Object WHERE CONTAINS(POINT('ICRS', coord_ra, coord_dec), CIRCLE('ICRS', 62, -37, 0.01)) = 1 AND detect_isPrimary = 1 ORDER BY coord_ra ASC\n"
     ]
    }
   ],
   "source": [
    "query = \"SELECT TOP \" + str(N) + \" coord_ra, coord_dec \"\\\n",
    "        \"FROM dp02_dc2_catalogs.Object \"\\\n",
    "        \"WHERE CONTAINS(POINT('ICRS', coord_ra, coord_dec), \"\\\n",
    "        \"CIRCLE('ICRS', \" + str_center_coords + \", \" + str_radius + \")) = 1 \"\\\n",
    "        \"AND detect_isPrimary = 1 \"\\\n",
    "        \"ORDER BY coord_ra ASC\"\n",
    "print(query)"
   ]
  },
  {
   "cell_type": "code",
   "execution_count": 64,
   "id": "c1361b1b-8c62-4a13-b4a8-ba98f5278def",
   "metadata": {
    "execution": {
     "iopub.execute_input": "2025-06-06T21:42:48.638860Z",
     "iopub.status.busy": "2025-06-06T21:42:48.638432Z",
     "iopub.status.idle": "2025-06-06T21:42:51.894085Z",
     "shell.execute_reply": "2025-06-06T21:42:51.893385Z",
     "shell.execute_reply.started": "2025-06-06T21:42:48.638825Z"
    }
   },
   "outputs": [
    {
     "name": "stdout",
     "output_type": "stream",
     "text": [
      "Job phase is COMPLETED\n",
      "20\n"
     ]
    }
   ],
   "source": [
    "job = service.submit_job(query)\n",
    "job.run()\n",
    "job.wait(phases=['COMPLETED', 'ERROR'])\n",
    "print('Job phase is', job.phase)\n",
    "\n",
    "results = job.fetch_result().to_table()\n",
    "print(len(results))"
   ]
  },
  {
   "cell_type": "code",
   "execution_count": 65,
   "id": "f1636a98-0195-4a7f-9702-fc9c184e22f8",
   "metadata": {
    "execution": {
     "iopub.execute_input": "2025-06-06T21:42:54.787274Z",
     "iopub.status.busy": "2025-06-06T21:42:54.786834Z",
     "iopub.status.idle": "2025-06-06T21:42:54.934947Z",
     "shell.execute_reply": "2025-06-06T21:42:54.933980Z",
     "shell.execute_reply.started": "2025-06-06T21:42:54.787236Z"
    }
   },
   "outputs": [
    {
     "data": {
      "image/png": "[encoded data removed]",
      "text/plain": [
       "<Figure size 400x400 with 1 Axes>"
      ]
     },
     "metadata": {},
     "output_type": "display_data"
    }
   ],
   "source": [
    "fig = plt.figure(figsize=(4, 4))\n",
    "region = SphericalCircle((center_ra * u.deg, center_dec * u.deg),\n",
    "                         radius * u.deg, alpha=0.2, color='blue')\n",
    "plt.gca().add_patch(region)\n",
    "plt.plot(results['coord_ra'], results['coord_dec'],\n",
    "         'o', alpha=0.5, color='black', mew=0)\n",
    "plt.xlabel('RA')\n",
    "plt.ylabel('Dec')\n",
    "plt.show()"
   ]
  },
  {
   "cell_type": "markdown",
   "id": "ccbbd5cb-b15b-4ec5-ab76-77ef67ce438a",
   "metadata": {},
   "source": [
    "The top 20 Objects returned (black dots) are all on the left-most edge of the purple circle because they have the lowest RA values and query resulrs were sorted by RA in ascending order before the top 20 were selected."
   ]
  },
  {
   "cell_type": "code",
   "execution_count": 66,
   "id": "0362bab2-2a17-45b5-8f36-3676553f088b",
   "metadata": {
    "execution": {
     "iopub.execute_input": "2025-06-06T21:44:18.913009Z",
     "iopub.status.busy": "2025-06-06T21:44:18.912247Z",
     "iopub.status.idle": "2025-06-06T21:44:18.960241Z",
     "shell.execute_reply": "2025-06-06T21:44:18.959285Z",
     "shell.execute_reply.started": "2025-06-06T21:44:18.912983Z"
    }
   },
   "outputs": [],
   "source": [
    "# clean up\n",
    "job.delete()\n",
    "del query, results"
   ]
  },
  {
   "cell_type": "markdown",
   "id": "3b30cdfb-c3b5-4767-886b-d472dbe0c5a6",
   "metadata": {},
   "source": [
    "Sorting Results with Pandas\n"
   ]
  },
  {
   "cell_type": "code",
   "execution_count": null,
   "id": "f10ced8b-d13c-45e0-bd6c-e14f4f5d570a",
   "metadata": {},
   "outputs": [],
   "source": [
    "# same query for a small unsorted set of Objects"
   ]
  },
  {
   "cell_type": "code",
   "execution_count": 67,
   "id": "efe13f06-959b-4a0d-9f7c-5ab8ab18af70",
   "metadata": {
    "execution": {
     "iopub.execute_input": "2025-06-06T21:45:02.750546Z",
     "iopub.status.busy": "2025-06-06T21:45:02.749501Z",
     "iopub.status.idle": "2025-06-06T21:45:02.755537Z",
     "shell.execute_reply": "2025-06-06T21:45:02.754554Z",
     "shell.execute_reply.started": "2025-06-06T21:45:02.750503Z"
    }
   },
   "outputs": [
    {
     "name": "stdout",
     "output_type": "stream",
     "text": [
      "SELECT coord_ra, coord_dec FROM dp02_dc2_catalogs.Object WHERE CONTAINS(POINT('ICRS', coord_ra, coord_dec), CIRCLE('ICRS', 62, -37, 0.01)) = 1 AND detect_isPrimary = 1\n"
     ]
    }
   ],
   "source": [
    "query = \"SELECT coord_ra, coord_dec \"\\\n",
    "        \"FROM dp02_dc2_catalogs.Object \"\\\n",
    "        \"WHERE CONTAINS(POINT('ICRS', coord_ra, coord_dec), \"\\\n",
    "        \"CIRCLE('ICRS', \" + str_center_coords + \", \" + str_radius + \")) = 1 \"\\\n",
    "        \"AND detect_isPrimary = 1\"\n",
    "print(query)"
   ]
  },
  {
   "cell_type": "code",
   "execution_count": 68,
   "id": "2677815d-312e-44b9-a5be-c3f714bc8c77",
   "metadata": {
    "execution": {
     "iopub.execute_input": "2025-06-06T21:45:08.874701Z",
     "iopub.status.busy": "2025-06-06T21:45:08.874287Z",
     "iopub.status.idle": "2025-06-06T21:45:12.094380Z",
     "shell.execute_reply": "2025-06-06T21:45:12.093440Z",
     "shell.execute_reply.started": "2025-06-06T21:45:08.874665Z"
    }
   },
   "outputs": [
    {
     "name": "stdout",
     "output_type": "stream",
     "text": [
      "Job phase is COMPLETED\n"
     ]
    }
   ],
   "source": [
    "job = service.submit_job(query)\n",
    "job.run()\n",
    "job.wait(phases=['COMPLETED', 'ERROR'])\n",
    "print('Job phase is', job.phase)"
   ]
  },
  {
   "cell_type": "code",
   "execution_count": 70,
   "id": "c388e717-3785-4852-abfe-68240c91f6c1",
   "metadata": {
    "execution": {
     "iopub.execute_input": "2025-06-06T21:45:54.715574Z",
     "iopub.status.busy": "2025-06-06T21:45:54.714960Z",
     "iopub.status.idle": "2025-06-06T21:45:54.758028Z",
     "shell.execute_reply": "2025-06-06T21:45:54.757045Z",
     "shell.execute_reply.started": "2025-06-06T21:45:54.715547Z"
    }
   },
   "outputs": [
    {
     "name": "stdout",
     "output_type": "stream",
     "text": [
      "173\n",
      "<class 'pandas.core.frame.DataFrame'>\n"
     ]
    },
    {
     "data": {
      "text/html": [
       "<div>\n",
       "<style scoped>\n",
       "    .dataframe tbody tr th:only-of-type {\n",
       "        vertical-align: middle;\n",
       "    }\n",
       "\n",
       "    .dataframe tbody tr th {\n",
       "        vertical-align: top;\n",
       "    }\n",
       "\n",
       "    .dataframe thead th {\n",
       "        text-align: right;\n",
       "    }\n",
       "</style>\n",
       "<table border=\"1\" class=\"dataframe\">\n",
       "  <thead>\n",
       "    <tr style=\"text-align: right;\">\n",
       "      <th></th>\n",
       "      <th>coord_ra</th>\n",
       "      <th>coord_dec</th>\n",
       "    </tr>\n",
       "  </thead>\n",
       "  <tbody>\n",
       "    <tr>\n",
       "      <th>0</th>\n",
       "      <td>61.989258</td>\n",
       "      <td>-37.005119</td>\n",
       "    </tr>\n",
       "    <tr>\n",
       "      <th>1</th>\n",
       "      <td>61.997438</td>\n",
       "      <td>-37.005796</td>\n",
       "    </tr>\n",
       "    <tr>\n",
       "      <th>2</th>\n",
       "      <td>62.003285</td>\n",
       "      <td>-37.006248</td>\n",
       "    </tr>\n",
       "    <tr>\n",
       "      <th>3</th>\n",
       "      <td>61.998238</td>\n",
       "      <td>-37.007123</td>\n",
       "    </tr>\n",
       "    <tr>\n",
       "      <th>4</th>\n",
       "      <td>62.003341</td>\n",
       "      <td>-37.002536</td>\n",
       "    </tr>\n",
       "    <tr>\n",
       "      <th>...</th>\n",
       "      <td>...</td>\n",
       "      <td>...</td>\n",
       "    </tr>\n",
       "    <tr>\n",
       "      <th>168</th>\n",
       "      <td>61.990251</td>\n",
       "      <td>-36.996347</td>\n",
       "    </tr>\n",
       "    <tr>\n",
       "      <th>169</th>\n",
       "      <td>61.989260</td>\n",
       "      <td>-36.995563</td>\n",
       "    </tr>\n",
       "    <tr>\n",
       "      <th>170</th>\n",
       "      <td>61.990184</td>\n",
       "      <td>-36.995566</td>\n",
       "    </tr>\n",
       "    <tr>\n",
       "      <th>171</th>\n",
       "      <td>61.992685</td>\n",
       "      <td>-36.998426</td>\n",
       "    </tr>\n",
       "    <tr>\n",
       "      <th>172</th>\n",
       "      <td>61.992210</td>\n",
       "      <td>-36.998456</td>\n",
       "    </tr>\n",
       "  </tbody>\n",
       "</table>\n",
       "<p>173 rows × 2 columns</p>\n",
       "</div>"
      ],
      "text/plain": [
       "      coord_ra  coord_dec\n",
       "0    61.989258 -37.005119\n",
       "1    61.997438 -37.005796\n",
       "2    62.003285 -37.006248\n",
       "3    61.998238 -37.007123\n",
       "4    62.003341 -37.002536\n",
       "..         ...        ...\n",
       "168  61.990251 -36.996347\n",
       "169  61.989260 -36.995563\n",
       "170  61.990184 -36.995566\n",
       "171  61.992685 -36.998426\n",
       "172  61.992210 -36.998456\n",
       "\n",
       "[173 rows x 2 columns]"
      ]
     },
     "execution_count": 70,
     "metadata": {},
     "output_type": "execute_result"
    }
   ],
   "source": [
    "# retrieving results and converting results to a pandas dataframe\n",
    "results = job.fetch_result().to_table().to_pandas()\n",
    "print(len(results))\n",
    "print(type(results)) # should return .DataFrame\n",
    "results # should return a DataFrame"
   ]
  },
  {
   "cell_type": "code",
   "execution_count": 71,
   "id": "e8fd7ee6-f0f8-4c6d-a78e-6d2e24c93ee2",
   "metadata": {
    "execution": {
     "iopub.execute_input": "2025-06-06T21:47:08.408645Z",
     "iopub.status.busy": "2025-06-06T21:47:08.407916Z",
     "iopub.status.idle": "2025-06-06T21:47:08.420408Z",
     "shell.execute_reply": "2025-06-06T21:47:08.419924Z",
     "shell.execute_reply.started": "2025-06-06T21:47:08.408619Z"
    }
   },
   "outputs": [
    {
     "data": {
      "text/html": [
       "<div>\n",
       "<style scoped>\n",
       "    .dataframe tbody tr th:only-of-type {\n",
       "        vertical-align: middle;\n",
       "    }\n",
       "\n",
       "    .dataframe tbody tr th {\n",
       "        vertical-align: top;\n",
       "    }\n",
       "\n",
       "    .dataframe thead th {\n",
       "        text-align: right;\n",
       "    }\n",
       "</style>\n",
       "<table border=\"1\" class=\"dataframe\">\n",
       "  <thead>\n",
       "    <tr style=\"text-align: right;\">\n",
       "      <th></th>\n",
       "      <th>coord_ra</th>\n",
       "      <th>coord_dec</th>\n",
       "    </tr>\n",
       "  </thead>\n",
       "  <tbody>\n",
       "    <tr>\n",
       "      <th>0</th>\n",
       "      <td>61.988079</td>\n",
       "      <td>-36.999024</td>\n",
       "    </tr>\n",
       "    <tr>\n",
       "      <th>1</th>\n",
       "      <td>61.988408</td>\n",
       "      <td>-36.998968</td>\n",
       "    </tr>\n",
       "    <tr>\n",
       "      <th>2</th>\n",
       "      <td>61.988546</td>\n",
       "      <td>-36.997821</td>\n",
       "    </tr>\n",
       "    <tr>\n",
       "      <th>3</th>\n",
       "      <td>61.988612</td>\n",
       "      <td>-37.001517</td>\n",
       "    </tr>\n",
       "    <tr>\n",
       "      <th>4</th>\n",
       "      <td>61.989258</td>\n",
       "      <td>-37.005119</td>\n",
       "    </tr>\n",
       "    <tr>\n",
       "      <th>...</th>\n",
       "      <td>...</td>\n",
       "      <td>...</td>\n",
       "    </tr>\n",
       "    <tr>\n",
       "      <th>168</th>\n",
       "      <td>62.010771</td>\n",
       "      <td>-36.998845</td>\n",
       "    </tr>\n",
       "    <tr>\n",
       "      <th>169</th>\n",
       "      <td>62.010843</td>\n",
       "      <td>-36.999844</td>\n",
       "    </tr>\n",
       "    <tr>\n",
       "      <th>170</th>\n",
       "      <td>62.010987</td>\n",
       "      <td>-36.996173</td>\n",
       "    </tr>\n",
       "    <tr>\n",
       "      <th>171</th>\n",
       "      <td>62.011207</td>\n",
       "      <td>-36.997063</td>\n",
       "    </tr>\n",
       "    <tr>\n",
       "      <th>172</th>\n",
       "      <td>62.012241</td>\n",
       "      <td>-36.999059</td>\n",
       "    </tr>\n",
       "  </tbody>\n",
       "</table>\n",
       "<p>173 rows × 2 columns</p>\n",
       "</div>"
      ],
      "text/plain": [
       "      coord_ra  coord_dec\n",
       "0    61.988079 -36.999024\n",
       "1    61.988408 -36.998968\n",
       "2    61.988546 -36.997821\n",
       "3    61.988612 -37.001517\n",
       "4    61.989258 -37.005119\n",
       "..         ...        ...\n",
       "168  62.010771 -36.998845\n",
       "169  62.010843 -36.999844\n",
       "170  62.010987 -36.996173\n",
       "171  62.011207 -36.997063\n",
       "172  62.012241 -36.999059\n",
       "\n",
       "[173 rows x 2 columns]"
      ]
     },
     "execution_count": 71,
     "metadata": {},
     "output_type": "execute_result"
    }
   ],
   "source": [
    "# sorting \n",
    "sorted_results = results.sort_values('coord_ra')\n",
    "sorted_results.set_index(np.array(range(len(sorted_results))), inplace=True) # do this because it will reset the index of the \n",
    "# sorted_results dataframe\n",
    "sorted_results"
   ]
  },
  {
   "cell_type": "code",
   "execution_count": 72,
   "id": "85072c4f-5241-4cb8-b0a6-8137a7e709bc",
   "metadata": {
    "execution": {
     "iopub.execute_input": "2025-06-06T21:47:23.837095Z",
     "iopub.status.busy": "2025-06-06T21:47:23.836188Z",
     "iopub.status.idle": "2025-06-06T21:47:23.921286Z",
     "shell.execute_reply": "2025-06-06T21:47:23.920547Z",
     "shell.execute_reply.started": "2025-06-06T21:47:23.837052Z"
    }
   },
   "outputs": [],
   "source": [
    "# clean up\n",
    "job.delete()\n",
    "del query, results, sorted_results"
   ]
  },
  {
   "cell_type": "markdown",
   "id": "d8962202-1d13-480b-b793-e7f0cdc72285",
   "metadata": {},
   "source": [
    "**Retrieving Query Results with job URL**\n",
    "\n",
    "Job results are generally available from previously run queries, and can be retrieved if the URL of the job is known _and_ if the job\n",
    "has not been deleted.\n",
    "\n",
    "Do not use `job.delete()` if the results will be retrieved later!"
   ]
  },
  {
   "cell_type": "code",
   "execution_count": 73,
   "id": "3931295c-2d23-4258-a376-6b882fce9092",
   "metadata": {
    "execution": {
     "iopub.execute_input": "2025-06-06T21:51:28.164952Z",
     "iopub.status.busy": "2025-06-06T21:51:28.164475Z",
     "iopub.status.idle": "2025-06-06T21:51:31.456405Z",
     "shell.execute_reply": "2025-06-06T21:51:31.455349Z",
     "shell.execute_reply.started": "2025-06-06T21:51:28.164904Z"
    }
   },
   "outputs": [
    {
     "name": "stdout",
     "output_type": "stream",
     "text": [
      "SELECT coord_ra, coord_dec FROM dp02_dc2_catalogs.Object WHERE CONTAINS(POINT('ICRS', coord_ra, coord_dec), CIRCLE('ICRS', 62, -37, 0.01)) = 1 AND detect_isPrimary = 1\n",
      "Job phase is COMPLETED\n"
     ]
    }
   ],
   "source": [
    "query = \"SELECT coord_ra, coord_dec \"\\\n",
    "        \"FROM dp02_dc2_catalogs.Object \"\\\n",
    "        \"WHERE CONTAINS(POINT('ICRS', coord_ra, coord_dec), \"\\\n",
    "        \"CIRCLE('ICRS', \" + str_center_coords + \", \" + str_radius + \")) = 1 \"\\\n",
    "        \"AND detect_isPrimary = 1\"\n",
    "print(query)\n",
    "\n",
    "job = service.submit_job(query)\n",
    "job.run()\n",
    "job.wait(phases=['COMPLETED', 'ERROR'])\n",
    "print('Job phase is', job.phase)"
   ]
  },
  {
   "cell_type": "code",
   "execution_count": 75,
   "id": "1078c228-be16-4425-b2ba-6e7b7ea48932",
   "metadata": {
    "execution": {
     "iopub.execute_input": "2025-06-06T21:52:47.787354Z",
     "iopub.status.busy": "2025-06-06T21:52:47.786886Z",
     "iopub.status.idle": "2025-06-06T21:52:48.073837Z",
     "shell.execute_reply": "2025-06-06T21:52:48.072930Z",
     "shell.execute_reply.started": "2025-06-06T21:52:47.787317Z"
    }
   },
   "outputs": [
    {
     "name": "stdout",
     "output_type": "stream",
     "text": [
      "https://data.lsst.cloud/api/tap/async/rz9zz0ym9tkmjrh7\n"
     ]
    },
    {
     "data": {
      "text/html": [
       "<div>\n",
       "<style scoped>\n",
       "    .dataframe tbody tr th:only-of-type {\n",
       "        vertical-align: middle;\n",
       "    }\n",
       "\n",
       "    .dataframe tbody tr th {\n",
       "        vertical-align: top;\n",
       "    }\n",
       "\n",
       "    .dataframe thead th {\n",
       "        text-align: right;\n",
       "    }\n",
       "</style>\n",
       "<table border=\"1\" class=\"dataframe\">\n",
       "  <thead>\n",
       "    <tr style=\"text-align: right;\">\n",
       "      <th></th>\n",
       "      <th>coord_ra</th>\n",
       "      <th>coord_dec</th>\n",
       "    </tr>\n",
       "  </thead>\n",
       "  <tbody>\n",
       "    <tr>\n",
       "      <th>0</th>\n",
       "      <td>61.989258</td>\n",
       "      <td>-37.005119</td>\n",
       "    </tr>\n",
       "    <tr>\n",
       "      <th>1</th>\n",
       "      <td>61.997438</td>\n",
       "      <td>-37.005796</td>\n",
       "    </tr>\n",
       "    <tr>\n",
       "      <th>2</th>\n",
       "      <td>62.003285</td>\n",
       "      <td>-37.006248</td>\n",
       "    </tr>\n",
       "    <tr>\n",
       "      <th>3</th>\n",
       "      <td>61.998238</td>\n",
       "      <td>-37.007123</td>\n",
       "    </tr>\n",
       "    <tr>\n",
       "      <th>4</th>\n",
       "      <td>62.003341</td>\n",
       "      <td>-37.002536</td>\n",
       "    </tr>\n",
       "    <tr>\n",
       "      <th>...</th>\n",
       "      <td>...</td>\n",
       "      <td>...</td>\n",
       "    </tr>\n",
       "    <tr>\n",
       "      <th>168</th>\n",
       "      <td>61.990251</td>\n",
       "      <td>-36.996347</td>\n",
       "    </tr>\n",
       "    <tr>\n",
       "      <th>169</th>\n",
       "      <td>61.989260</td>\n",
       "      <td>-36.995563</td>\n",
       "    </tr>\n",
       "    <tr>\n",
       "      <th>170</th>\n",
       "      <td>61.990184</td>\n",
       "      <td>-36.995566</td>\n",
       "    </tr>\n",
       "    <tr>\n",
       "      <th>171</th>\n",
       "      <td>61.992685</td>\n",
       "      <td>-36.998426</td>\n",
       "    </tr>\n",
       "    <tr>\n",
       "      <th>172</th>\n",
       "      <td>61.992210</td>\n",
       "      <td>-36.998456</td>\n",
       "    </tr>\n",
       "  </tbody>\n",
       "</table>\n",
       "<p>173 rows × 2 columns</p>\n",
       "</div>"
      ],
      "text/plain": [
       "      coord_ra  coord_dec\n",
       "0    61.989258 -37.005119\n",
       "1    61.997438 -37.005796\n",
       "2    62.003285 -37.006248\n",
       "3    61.998238 -37.007123\n",
       "4    62.003341 -37.002536\n",
       "..         ...        ...\n",
       "168  61.990251 -36.996347\n",
       "169  61.989260 -36.995563\n",
       "170  61.990184 -36.995566\n",
       "171  61.992685 -36.998426\n",
       "172  61.992210 -36.998456\n",
       "\n",
       "[173 rows x 2 columns]"
      ]
     },
     "execution_count": 75,
     "metadata": {},
     "output_type": "execute_result"
    }
   ],
   "source": [
    "# instead of using job.fetch_result(), store the job.url and print it, that URl cvan be used to retrieve the query results,\n",
    "# shared with another user of Rubin TAP Service, and can retrieve the same results\n",
    "my_job_url = str(job.url)\n",
    "print(my_job_url)\n",
    "\n",
    "retrieved_job = retrieve_query(my_job_url)\n",
    "retrieved_results = retrieved_job.fetch_result().to_table().to_pandas()\n",
    "retrieved_results"
   ]
  },
  {
   "cell_type": "code",
   "execution_count": 76,
   "id": "f27b04bc-778b-487b-8334-5094c91ca2ba",
   "metadata": {
    "execution": {
     "iopub.execute_input": "2025-06-06T21:53:02.064441Z",
     "iopub.status.busy": "2025-06-06T21:53:02.063966Z",
     "iopub.status.idle": "2025-06-06T21:53:02.113382Z",
     "shell.execute_reply": "2025-06-06T21:53:02.112823Z",
     "shell.execute_reply.started": "2025-06-06T21:53:02.064404Z"
    }
   },
   "outputs": [],
   "source": [
    "# clean up\n",
    "job.delete()\n",
    "del query, retrieved_results"
   ]
  },
  {
   "cell_type": "markdown",
   "id": "b3af1e67-3b1d-4ba8-abdb-084db4c9237c",
   "metadata": {},
   "source": [
    "We are working in RSP Notebooks, but you can also run this from the portal \n",
    "\n",
    "In a new browser tab, go to <a href=\"https://data.lsst.cloud/\">data.lsst.cloud</a> and enter the Portal Aspect.\n",
    "\n",
    "Click on the tab \"DP0.2 Catalogs\" at the top of the screen.\n",
    "\n",
    "Click \"Edit ADQL\" at upper right.\n",
    "\n",
    "Copy-paste the following query into the ADQL box as shown in the screenshot below.\n",
    "\n",
    "```\n",
    "SELECT coord_ra, coord_dec FROM dp02_dc2_catalogs.Object\n",
    "WHERE CONTAINS(POINT('ICRS', coord_ra, coord_dec), CIRCLE('ICRS', 62, -37, 0.01)) = 1\n",
    "AND detect_isPrimary = 1\n",
    "```\n",
    "\n",
    "The default results view will appear in the results tab \n",
    "\n",
    "The search results have been automatically saved and assigned a URL.\n",
    "\n",
    "Click on the \"Info\" button (the letter i in a circle),\n",
    "which is in the upper right-hand corner of the table (bottom of the screen).\n",
    "\n",
    "The pop-up window contains the URL (the Job Link)."
   ]
  },
  {
   "cell_type": "code",
   "execution_count": null,
   "id": "fdc911c5-261f-4c7a-a4b6-1ad4bcdecc89",
   "metadata": {},
   "outputs": [],
   "source": [
    "# to create a new URL, for example, the results of the portal query in the notebook here"
   ]
  },
  {
   "cell_type": "code",
   "execution_count": null,
   "id": "2f57db90-540d-42e5-9a63-bd76d624bc73",
   "metadata": {},
   "outputs": [],
   "source": [
    "# my_portal_url = ''\n",
    "# retrieved_job = retrieve_query(my_portal_url)\n",
    "# retrieved_results = retrieved_job.fetch_result().to_table().to_pandas()\n",
    "# retrieved_results"
   ]
  },
  {
   "cell_type": "code",
   "execution_count": null,
   "id": "794f86e2-913b-42b0-9d43-0f6305e9cca0",
   "metadata": {},
   "outputs": [],
   "source": [
    "# retrieved_job.delete()\n",
    "# del retrieved_results"
   ]
  }
 ],
 "metadata": {
  "kernelspec": {
   "display_name": "LSST",
   "language": "python",
   "name": "lsst"
  },
  "language_info": {
   "codemirror_mode": {
    "name": "ipython",
    "version": 3
   },
   "file_extension": ".py",
   "mimetype": "text/x-python",
   "name": "python",
   "nbconvert_exporter": "python",
   "pygments_lexer": "ipython3",
   "version": "3.12.10"
  }
 },
 "nbformat": 4,
 "nbformat_minor": 5
}
