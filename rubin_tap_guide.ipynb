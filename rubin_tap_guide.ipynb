{
 "cells": [
  {
   "cell_type": "markdown",
   "id": "76f7b5e2-7ae6-4df1-8b95-100ea6898140",
   "metadata": {},
   "source": [
    "# Rubin TAP + Python Utilities Guide\n",
    "**Author:** McAelan Remigio\n",
   "\n",
   "**Based on original material by:** Leanne Guy, Melissa Graham\n",
   "**Last updated:** June 6, 2025\n",
   "**Credit:** This simplified guide is derived from the original Rubin Science Platform tutorial by Leanne Guy, created in the context of Rubin DP0.1. It aims to reduce complexity and improve clarity for new learners.\n",
    "\n",
    "This guide introduces the Rubin Science Platform TAP service through:\n",
    "- ADQL querying (basic and aggregated)\n",
    "- When to use search() vs submit_job()\n",
    "- Basic matplotlib histograms\n",
    "- NaN handling and pandas techniques\n",
    "\n",
    "Target audience: Astronomy & data science learners with minimal programming experience."
   ]
  },
  {
   "cell_type": "code",
   "execution_count": null,
   "id": "8a243366-e2ef-4033-8fbf-30dcea00842c",
   "metadata": {},
   "outputs": [],
   "source": [
    "import numpy as np\n",
    "import pandas as pd\n",
    "import matplotlib.pyplot as plt\n",
    "from matplotlib import colormaps\n",
    "from lsst.rsp import get_tap_service"
   ]
  },
  {
   "cell_type": "markdown",
   "id": "17468c3d-2313-4b9e-80d0-a1e3fecbdc55",
   "metadata": {},
   "source": [
    "## TAP Service Connection\n",
    "\n",
    "We begin by connecting to the Rubin TAP service. This gives us access to the LSST data tables via ADQL, known as the Astronomical Data Query Language that is a SQL dialact for astronomy."
   ]
  },
  {
   "cell_type": "code",
   "execution_count": null,
   "id": "56b4236a-835f-443b-9f2b-c1f37a83cfc3",
   "metadata": {},
   "outputs": [],
   "source": [
    "service = get_tap_service(\"ssotap\")\n",
    "assert service is not None"
   ]
  },
  {
   "cell_type": "markdown",
   "id": "65a6a7c6-fcb7-45c7-bc91-448f44b0fa12",
   "metadata": {},
   "source": [
    "## Schema Inspection: MPCORB Table\n",
    "\n",
    "We can inspect the columns, datatypes, and descriptions of the `dp03_catalogs_10yr.MPCORB` table using TAP metadata.\n"
   ]
  },
  {
   "cell_type": "code",
   "execution_count": null,
   "id": "a410a13c-73ff-41b6-b7d8-d583a99b47f4",
   "metadata": {},
   "outputs": [],
   "source": [
    "results = service.search(\"\"\"\n",
    "SELECT column_name, datatype, description, unit \n",
    "FROM TAP_SCHEMA.columns \n",
    "WHERE table_name = 'dp03_catalogs_10yr.MPCORB'\n",
    "\"\"\")\n",
    "print(results.to_table().to_pandas())"
   ]
  },
  {
   "cell_type": "markdown",
   "id": "aded16ce-aee2-4f68-a66a-33ecbe0e8709",
   "metadata": {},
   "source": [
    "## Basic ADQL Query: Min/Max Object IDs\n",
    "\n",
    "Let’s look at the smallest and largest object IDs to get a sense of range."
   ]
  },
  {
   "cell_type": "code",
   "execution_count": null,
   "id": "59ee42b1-12b3-48df-afbb-4d25b214495c",
   "metadata": {},
   "outputs": [],
   "source": [
    "results = service.search(\"\"\"\n",
    "SELECT MIN(ssObjectId), MAX(ssObjectId) \n",
    "FROM dp03_catalogs_10yr.MPCORB\n",
    "\"\"\")\n",
    "print(results.to_table())"
   ]
  },
  {
   "cell_type": "markdown",
   "id": "b26d4ff0-ce4c-4c38-b4d2-b42c1e166fbd",
   "metadata": {},
   "source": [
    "## Aggregation Example: Summary Statistics\n",
    "\n",
    "We'll compute some basic statistics: count, min, max, and average values of key orbital elements."
   ]
  },
  {
   "cell_type": "code",
   "execution_count": null,
   "id": "1af5c66f-00d7-44f6-8659-42483cd44764",
   "metadata": {},
   "outputs": [],
   "source": [
    "query = \"\"\"\n",
    "SELECT COUNT(*) AS total,\n",
    "       MIN(a) AS min_a,\n",
    "       MAX(a) AS max_a,\n",
    "       AVG(e) AS avg_e\n",
    "FROM dp03_catalogs_10yr.MPCORB\n",
    "\"\"\"\n",
    "\n",
    "job = service.submit_job(query)\n",
    "job.run()\n",
    "job.wait(phases=['COMPLETED', 'ERROR'])\n",
    "assert job.phase == 'COMPLETED'\n",
    "df = job.fetch_result().to_table().to_pandas()\n",
    "print(df)"
   ]
  },
  {
   "cell_type": "markdown",
   "id": "71aa95dd-c0cf-406f-8c96-af205476e01b",
   "metadata": {},
   "source": [
    "## Visualization: Histogram of Eccentricity\n",
    "\n",
    "We’ll simulate a small dataset for visualization. Histograms are log-scaled to highlight distributions over wide ranges."
   ]
  },
  {
   "cell_type": "code",
   "execution_count": null,
   "id": "1fa08797-14c8-4d62-8355-5846606d339f",
   "metadata": {},
   "outputs": [],
   "source": [
    "df = pd.DataFrame({'e': np.random.beta(2, 5, 10000)})\n",
    "\n",
    "fig, ax = plt.subplots(2, 3, figsize=(10, 6), sharey=False)\n",
    "ax[0, 0].hist(df['e'], bins=100, log=True)\n",
    "ax[0, 0].set_xlabel('Eccentricity')\n",
    "ax[0, 0].set_ylabel('log(Number)')\n",
    "fig.suptitle('Histograms for Key Orbital Elements')\n",
    "fig.tight_layout()\n",
    "plt.show()"
   ]
  },
  {
   "cell_type": "markdown",
   "id": "f7ad0543-0bb6-4e91-b07a-37f8884d6c46",
   "metadata": {},
   "source": [
    "## Data Cleaning: Handling NaN Values\n",
    "\n",
    "We'll remove any rows that have missing (`NaN`) values in key columns, then reset the index to keep the dataframe tidy."
   ]
  },
  {
   "cell_type": "code",
   "execution_count": null,
   "id": "1766ce5a-1a77-4723-a168-95af3f637772",
   "metadata": {},
   "outputs": [],
   "source": [
    "df_cleaned = df.dropna(subset=['e'])  # Copy version\n",
    "df.dropna(subset=['e'], inplace=True) # In-place version\n",
    "df.reset_index(drop=True, inplace=True)\n",
    "\n",
    "print('Number of rows after dropping NaNs:', len(df))"
   ]
  }
 ],
 "metadata": {
  "kernelspec": {
   "display_name": "LSST",
   "language": "python",
   "name": "lsst"
  },
  "language_info": {
   "codemirror_mode": {
    "name": "ipython",
    "version": 3
   },
   "file_extension": ".py",
   "mimetype": "text/x-python",
   "name": "python",
   "nbconvert_exporter": "python",
   "pygments_lexer": "ipython3",
   "version": "3.12.10"
  } 
 },
 "nbformat": 4,
 "nbformat_minor": 5
}
